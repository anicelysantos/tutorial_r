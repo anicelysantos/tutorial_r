{
 "cells": [
  {
   "cell_type": "markdown",
   "id": "ac2d69ad",
   "metadata": {},
   "source": [
    "**Matrizes**"
   ]
  },
  {
   "cell_type": "code",
   "execution_count": 2,
   "id": "c80dc4c9",
   "metadata": {},
   "outputs": [
    {
     "data": {
      "text/html": [
       "<table>\n",
       "<tbody>\n",
       "\t<tr><td>1</td><td>4</td><td>7</td></tr>\n",
       "\t<tr><td>2</td><td>5</td><td>8</td></tr>\n",
       "\t<tr><td>3</td><td>6</td><td>9</td></tr>\n",
       "</tbody>\n",
       "</table>\n"
      ],
      "text/latex": [
       "\\begin{tabular}{lll}\n",
       "\t 1 & 4 & 7\\\\\n",
       "\t 2 & 5 & 8\\\\\n",
       "\t 3 & 6 & 9\\\\\n",
       "\\end{tabular}\n"
      ],
      "text/markdown": [
       "\n",
       "| 1 | 4 | 7 |\n",
       "| 2 | 5 | 8 |\n",
       "| 3 | 6 | 9 |\n",
       "\n"
      ],
      "text/plain": [
       "     [,1] [,2] [,3]\n",
       "[1,] 1    4    7   \n",
       "[2,] 2    5    8   \n",
       "[3,] 3    6    9   "
      ]
     },
     "metadata": {},
     "output_type": "display_data"
    }
   ],
   "source": [
    "#Por padrão sequencia por coluna\n",
    "m  <-  matrix(1:9, nrow = 3, ncol = 3)\n",
    "m"
   ]
  },
  {
   "cell_type": "code",
   "execution_count": 3,
   "id": "3d9ab3e9",
   "metadata": {},
   "outputs": [
    {
     "data": {
      "text/html": [
       "<table>\n",
       "<tbody>\n",
       "\t<tr><td>1</td><td>2</td><td>3</td></tr>\n",
       "\t<tr><td>4</td><td>5</td><td>6</td></tr>\n",
       "\t<tr><td>7</td><td>8</td><td>9</td></tr>\n",
       "</tbody>\n",
       "</table>\n"
      ],
      "text/latex": [
       "\\begin{tabular}{lll}\n",
       "\t 1 & 2 & 3\\\\\n",
       "\t 4 & 5 & 6\\\\\n",
       "\t 7 & 8 & 9\\\\\n",
       "\\end{tabular}\n"
      ],
      "text/markdown": [
       "\n",
       "| 1 | 2 | 3 |\n",
       "| 4 | 5 | 6 |\n",
       "| 7 | 8 | 9 |\n",
       "\n"
      ],
      "text/plain": [
       "     [,1] [,2] [,3]\n",
       "[1,] 1    2    3   \n",
       "[2,] 4    5    6   \n",
       "[3,] 7    8    9   "
      ]
     },
     "metadata": {},
     "output_type": "display_data"
    }
   ],
   "source": [
    "#byrow sequencia os valores por linha\n",
    "matrix(1:9, nrow = 3, ncol = 3, byrow = TRUE)"
   ]
  },
  {
   "cell_type": "code",
   "execution_count": 4,
   "id": "a358d337",
   "metadata": {},
   "outputs": [
    {
     "data": {
      "text/html": [
       "<ol class=list-inline>\n",
       "\t<li>3</li>\n",
       "\t<li>6</li>\n",
       "\t<li>9</li>\n",
       "</ol>\n"
      ],
      "text/latex": [
       "\\begin{enumerate*}\n",
       "\\item 3\n",
       "\\item 6\n",
       "\\item 9\n",
       "\\end{enumerate*}\n"
      ],
      "text/markdown": [
       "1. 3\n",
       "2. 6\n",
       "3. 9\n",
       "\n",
       "\n"
      ],
      "text/plain": [
       "[1] 3 6 9"
      ]
     },
     "metadata": {},
     "output_type": "display_data"
    }
   ],
   "source": [
    "#subsetting de matrizes é igual o de data frames\n",
    "#seleciona a linha 3\n",
    "m[3, ]"
   ]
  },
  {
   "cell_type": "code",
   "execution_count": 5,
   "id": "448c40dc",
   "metadata": {},
   "outputs": [
    {
     "data": {
      "text/html": [
       "<ol class=list-inline>\n",
       "\t<li>4</li>\n",
       "\t<li>5</li>\n",
       "\t<li>6</li>\n",
       "</ol>\n"
      ],
      "text/latex": [
       "\\begin{enumerate*}\n",
       "\\item 4\n",
       "\\item 5\n",
       "\\item 6\n",
       "\\end{enumerate*}\n"
      ],
      "text/markdown": [
       "1. 4\n",
       "2. 5\n",
       "3. 6\n",
       "\n",
       "\n"
      ],
      "text/plain": [
       "[1] 4 5 6"
      ]
     },
     "metadata": {},
     "output_type": "display_data"
    }
   ],
   "source": [
    "#seleciona a coluna 2\n",
    "m[ ,2]"
   ]
  },
  {
   "cell_type": "code",
   "execution_count": 6,
   "id": "71b648b6",
   "metadata": {},
   "outputs": [
    {
     "data": {
      "text/html": [
       "4"
      ],
      "text/latex": [
       "4"
      ],
      "text/markdown": [
       "4"
      ],
      "text/plain": [
       "[1] 4"
      ]
     },
     "metadata": {},
     "output_type": "display_data"
    }
   ],
   "source": [
    "#seleciona o valor que está na primeira linha, segunda coluna\n",
    "m[1,2]"
   ]
  },
  {
   "cell_type": "code",
   "execution_count": 7,
   "id": "41326bab",
   "metadata": {},
   "outputs": [
    {
     "data": {
      "text/html": [
       "<table>\n",
       "<tbody>\n",
       "\t<tr><td>1</td><td>2</td><td>3</td></tr>\n",
       "\t<tr><td>4</td><td>5</td><td>6</td></tr>\n",
       "\t<tr><td>7</td><td>8</td><td>9</td></tr>\n",
       "</tbody>\n",
       "</table>\n"
      ],
      "text/latex": [
       "\\begin{tabular}{lll}\n",
       "\t 1 & 2 & 3\\\\\n",
       "\t 4 & 5 & 6\\\\\n",
       "\t 7 & 8 & 9\\\\\n",
       "\\end{tabular}\n"
      ],
      "text/markdown": [
       "\n",
       "| 1 | 2 | 3 |\n",
       "| 4 | 5 | 6 |\n",
       "| 7 | 8 | 9 |\n",
       "\n"
      ],
      "text/plain": [
       "     [,1] [,2] [,3]\n",
       "[1,] 1    2    3   \n",
       "[2,] 4    5    6   \n",
       "[3,] 7    8    9   "
      ]
     },
     "metadata": {},
     "output_type": "display_data"
    }
   ],
   "source": [
    "#Matriz transporta\n",
    "\n",
    "t(m)"
   ]
  },
  {
   "cell_type": "code",
   "execution_count": 9,
   "id": "6dbeadec",
   "metadata": {},
   "outputs": [
    {
     "data": {
      "text/html": [
       "<table>\n",
       "<tbody>\n",
       "\t<tr><td>1</td><td>0</td><td>0</td></tr>\n",
       "\t<tr><td>0</td><td>1</td><td>0</td></tr>\n",
       "\t<tr><td>0</td><td>0</td><td>1</td></tr>\n",
       "</tbody>\n",
       "</table>\n"
      ],
      "text/latex": [
       "\\begin{tabular}{lll}\n",
       "\t 1 & 0 & 0\\\\\n",
       "\t 0 & 1 & 0\\\\\n",
       "\t 0 & 0 & 1\\\\\n",
       "\\end{tabular}\n"
      ],
      "text/markdown": [
       "\n",
       "| 1 | 0 | 0 |\n",
       "| 0 | 1 | 0 |\n",
       "| 0 | 0 | 1 |\n",
       "\n"
      ],
      "text/plain": [
       "     [,1] [,2] [,3]\n",
       "[1,] 1    0    0   \n",
       "[2,] 0    1    0   \n",
       "[3,] 0    0    1   "
      ]
     },
     "metadata": {},
     "output_type": "display_data"
    }
   ],
   "source": [
    "#Matriz identidade 3 por 3\n",
    "n  <-  diag(3)\n",
    "n"
   ]
  },
  {
   "cell_type": "code",
   "execution_count": 11,
   "id": "9c202c45",
   "metadata": {},
   "outputs": [
    {
     "data": {
      "text/html": [
       "<table>\n",
       "<tbody>\n",
       "\t<tr><td>2</td><td>0</td><td>0</td></tr>\n",
       "\t<tr><td>0</td><td>2</td><td>0</td></tr>\n",
       "\t<tr><td>0</td><td>0</td><td>2</td></tr>\n",
       "</tbody>\n",
       "</table>\n"
      ],
      "text/latex": [
       "\\begin{tabular}{lll}\n",
       "\t 2 & 0 & 0\\\\\n",
       "\t 0 & 2 & 0\\\\\n",
       "\t 0 & 0 & 2\\\\\n",
       "\\end{tabular}\n"
      ],
      "text/markdown": [
       "\n",
       "| 2 | 0 | 0 |\n",
       "| 0 | 2 | 0 |\n",
       "| 0 | 0 | 2 |\n",
       "\n"
      ],
      "text/plain": [
       "     [,1] [,2] [,3]\n",
       "[1,] 2    0    0   \n",
       "[2,] 0    2    0   \n",
       "[3,] 0    0    2   "
      ]
     },
     "metadata": {},
     "output_type": "display_data"
    }
   ],
   "source": [
    "#Multiplicação por escala\n",
    "n * 2"
   ]
  },
  {
   "cell_type": "code",
   "execution_count": 13,
   "id": "0e9dbd1a",
   "metadata": {},
   "outputs": [
    {
     "data": {
      "text/html": [
       "<table>\n",
       "<tbody>\n",
       "\t<tr><td>1</td><td>4</td><td>7</td></tr>\n",
       "\t<tr><td>2</td><td>5</td><td>8</td></tr>\n",
       "\t<tr><td>3</td><td>6</td><td>9</td></tr>\n",
       "</tbody>\n",
       "</table>\n"
      ],
      "text/latex": [
       "\\begin{tabular}{lll}\n",
       "\t 1 & 4 & 7\\\\\n",
       "\t 2 & 5 & 8\\\\\n",
       "\t 3 & 6 & 9\\\\\n",
       "\\end{tabular}\n"
      ],
      "text/markdown": [
       "\n",
       "| 1 | 4 | 7 |\n",
       "| 2 | 5 | 8 |\n",
       "| 3 | 6 | 9 |\n",
       "\n"
      ],
      "text/plain": [
       "     [,1] [,2] [,3]\n",
       "[1,] 1    4    7   \n",
       "[2,] 2    5    8   \n",
       "[3,] 3    6    9   "
      ]
     },
     "metadata": {},
     "output_type": "display_data"
    }
   ],
   "source": [
    "#Multiplicação matricial\n",
    "\n",
    "m %*% n"
   ]
  },
  {
   "cell_type": "code",
   "execution_count": 15,
   "id": "12b843e2",
   "metadata": {},
   "outputs": [
    {
     "data": {
      "text/html": [
       "<table>\n",
       "<tbody>\n",
       "\t<tr><td>0.5</td><td>0.0</td><td>0.0</td></tr>\n",
       "\t<tr><td>0.0</td><td>0.5</td><td>0.0</td></tr>\n",
       "\t<tr><td>0.0</td><td>0.0</td><td>0.5</td></tr>\n",
       "</tbody>\n",
       "</table>\n"
      ],
      "text/latex": [
       "\\begin{tabular}{lll}\n",
       "\t 0.5 & 0.0 & 0.0\\\\\n",
       "\t 0.0 & 0.5 & 0.0\\\\\n",
       "\t 0.0 & 0.0 & 0.5\\\\\n",
       "\\end{tabular}\n"
      ],
      "text/markdown": [
       "\n",
       "| 0.5 | 0.0 | 0.0 |\n",
       "| 0.0 | 0.5 | 0.0 |\n",
       "| 0.0 | 0.0 | 0.5 |\n",
       "\n"
      ],
      "text/plain": [
       "     [,1] [,2] [,3]\n",
       "[1,] 0.5  0.0  0.0 \n",
       "[2,] 0.0  0.5  0.0 \n",
       "[3,] 0.0  0.0  0.5 "
      ]
     },
     "metadata": {},
     "output_type": "display_data"
    }
   ],
   "source": [
    "#Matriz inversa de m\n",
    "n2  <-  n * 2\n",
    "solve(n2)"
   ]
  },
  {
   "cell_type": "markdown",
   "id": "15e9d513",
   "metadata": {},
   "source": [
    "**Fatores**"
   ]
  },
  {
   "cell_type": "code",
   "execution_count": 16,
   "id": "b58bfb9e",
   "metadata": {},
   "outputs": [
    {
     "data": {
      "text/html": [
       "<ol class=list-inline>\n",
       "\t<li>'F'</li>\n",
       "\t<li>'M'</li>\n",
       "\t<li>'M'</li>\n",
       "\t<li>'M'</li>\n",
       "\t<li>'F'</li>\n",
       "\t<li>'F'</li>\n",
       "\t<li>'M'</li>\n",
       "</ol>\n"
      ],
      "text/latex": [
       "\\begin{enumerate*}\n",
       "\\item 'F'\n",
       "\\item 'M'\n",
       "\\item 'M'\n",
       "\\item 'M'\n",
       "\\item 'F'\n",
       "\\item 'F'\n",
       "\\item 'M'\n",
       "\\end{enumerate*}\n"
      ],
      "text/markdown": [
       "1. 'F'\n",
       "2. 'M'\n",
       "3. 'M'\n",
       "4. 'M'\n",
       "5. 'F'\n",
       "6. 'F'\n",
       "7. 'M'\n",
       "\n",
       "\n"
      ],
      "text/plain": [
       "[1] \"F\" \"M\" \"M\" \"M\" \"F\" \"F\" \"M\""
      ]
     },
     "metadata": {},
     "output_type": "display_data"
    }
   ],
   "source": [
    "#Variavel sexo com texto\n",
    "sexo  <- c('F', 'M', 'M','M','F','F','M')\n",
    "sexo"
   ]
  },
  {
   "cell_type": "code",
   "execution_count": 17,
   "id": "4f8f93d7",
   "metadata": {},
   "outputs": [
    {
     "data": {
      "text/html": [
       "<ol class=list-inline>\n",
       "\t<li>F</li>\n",
       "\t<li>M</li>\n",
       "\t<li>M</li>\n",
       "\t<li>M</li>\n",
       "\t<li>F</li>\n",
       "\t<li>F</li>\n",
       "\t<li>M</li>\n",
       "</ol>\n",
       "\n",
       "<details>\n",
       "\t<summary style=display:list-item;cursor:pointer>\n",
       "\t\t<strong>Levels</strong>:\n",
       "\t</summary>\n",
       "\t<ol class=list-inline>\n",
       "\t\t<li>'F'</li>\n",
       "\t\t<li>'M'</li>\n",
       "\t</ol>\n",
       "</details>"
      ],
      "text/latex": [
       "\\begin{enumerate*}\n",
       "\\item F\n",
       "\\item M\n",
       "\\item M\n",
       "\\item M\n",
       "\\item F\n",
       "\\item F\n",
       "\\item M\n",
       "\\end{enumerate*}\n",
       "\n",
       "\\emph{Levels}: \\begin{enumerate*}\n",
       "\\item 'F'\n",
       "\\item 'M'\n",
       "\\end{enumerate*}\n"
      ],
      "text/markdown": [
       "1. F\n",
       "2. M\n",
       "3. M\n",
       "4. M\n",
       "5. F\n",
       "6. F\n",
       "7. M\n",
       "\n",
       "\n",
       "\n",
       "**Levels**: 1. 'F'\n",
       "2. 'M'\n",
       "\n",
       "\n"
      ],
      "text/plain": [
       "[1] F M M M F F M\n",
       "Levels: F M"
      ]
     },
     "metadata": {},
     "output_type": "display_data"
    }
   ],
   "source": [
    "#Variável sexo como fator\n",
    "as.factor(sexo)"
   ]
  },
  {
   "cell_type": "code",
   "execution_count": 19,
   "id": "e750ea81",
   "metadata": {},
   "outputs": [
    {
     "data": {
      "text/html": [
       "<ol class=list-inline>\n",
       "\t<li>1</li>\n",
       "\t<li>2</li>\n",
       "\t<li>2</li>\n",
       "\t<li>2</li>\n",
       "\t<li>1</li>\n",
       "\t<li>1</li>\n",
       "\t<li>2</li>\n",
       "</ol>\n"
      ],
      "text/latex": [
       "\\begin{enumerate*}\n",
       "\\item 1\n",
       "\\item 2\n",
       "\\item 2\n",
       "\\item 2\n",
       "\\item 1\n",
       "\\item 1\n",
       "\\item 2\n",
       "\\end{enumerate*}\n"
      ],
      "text/markdown": [
       "1. 1\n",
       "2. 2\n",
       "3. 2\n",
       "4. 2\n",
       "5. 1\n",
       "6. 1\n",
       "7. 2\n",
       "\n",
       "\n"
      ],
      "text/plain": [
       "[1] 1 2 2 2 1 1 2"
      ]
     },
     "metadata": {},
     "output_type": "display_data"
    }
   ],
   "source": [
    "#Não é possivel transformar textos em números, mas é possível passar transformar fatores em inteiros\n",
    "\n",
    "fator  <-  as.factor(sexo)\n",
    "as.numeric(fator)"
   ]
  },
  {
   "cell_type": "code",
   "execution_count": 22,
   "id": "5feee822",
   "metadata": {},
   "outputs": [
    {
     "data": {
      "text/html": [
       "<ol class=list-inline>\n",
       "\t<li>a</li>\n",
       "\t<li>b</li>\n",
       "\t<li>c</li>\n",
       "\t<li>d</li>\n",
       "\t<li>e</li>\n",
       "\t<li>f</li>\n",
       "\t<li>g</li>\n",
       "\t<li>h</li>\n",
       "\t<li>i</li>\n",
       "\t<li>j</li>\n",
       "</ol>\n",
       "\n",
       "<details>\n",
       "\t<summary style=display:list-item;cursor:pointer>\n",
       "\t\t<strong>Levels</strong>:\n",
       "\t</summary>\n",
       "\t<ol class=list-inline>\n",
       "\t\t<li>'a'</li>\n",
       "\t\t<li>'b'</li>\n",
       "\t\t<li>'c'</li>\n",
       "\t\t<li>'d'</li>\n",
       "\t\t<li>'e'</li>\n",
       "\t\t<li>'f'</li>\n",
       "\t\t<li>'g'</li>\n",
       "\t\t<li>'h'</li>\n",
       "\t\t<li>'i'</li>\n",
       "\t\t<li>'j'</li>\n",
       "\t</ol>\n",
       "</details>"
      ],
      "text/latex": [
       "\\begin{enumerate*}\n",
       "\\item a\n",
       "\\item b\n",
       "\\item c\n",
       "\\item d\n",
       "\\item e\n",
       "\\item f\n",
       "\\item g\n",
       "\\item h\n",
       "\\item i\n",
       "\\item j\n",
       "\\end{enumerate*}\n",
       "\n",
       "\\emph{Levels}: \\begin{enumerate*}\n",
       "\\item 'a'\n",
       "\\item 'b'\n",
       "\\item 'c'\n",
       "\\item 'd'\n",
       "\\item 'e'\n",
       "\\item 'f'\n",
       "\\item 'g'\n",
       "\\item 'h'\n",
       "\\item 'i'\n",
       "\\item 'j'\n",
       "\\end{enumerate*}\n"
      ],
      "text/markdown": [
       "1. a\n",
       "2. b\n",
       "3. c\n",
       "4. d\n",
       "5. e\n",
       "6. f\n",
       "7. g\n",
       "8. h\n",
       "9. i\n",
       "10. j\n",
       "\n",
       "\n",
       "\n",
       "**Levels**: 1. 'a'\n",
       "2. 'b'\n",
       "3. 'c'\n",
       "4. 'd'\n",
       "5. 'e'\n",
       "6. 'f'\n",
       "7. 'g'\n",
       "8. 'h'\n",
       "9. 'i'\n",
       "10. 'j'\n",
       "\n",
       "\n"
      ],
      "text/plain": [
       " [1] a b c d e f g h i j\n",
       "Levels: a b c d e f g h i j"
      ]
     },
     "metadata": {},
     "output_type": "display_data"
    }
   ],
   "source": [
    "#letters é um objeto nativo do R\n",
    "letras  <-  letters[1:10]\n",
    "fator  <-  as.factor(letras)\n",
    "fator"
   ]
  },
  {
   "cell_type": "code",
   "execution_count": 23,
   "id": "fca81a1d",
   "metadata": {},
   "outputs": [
    {
     "data": {
      "text/html": [
       "<ol class=list-inline>\n",
       "\t<li>1</li>\n",
       "\t<li>2</li>\n",
       "\t<li>3</li>\n",
       "\t<li>4</li>\n",
       "\t<li>5</li>\n",
       "\t<li>6</li>\n",
       "\t<li>7</li>\n",
       "\t<li>8</li>\n",
       "\t<li>9</li>\n",
       "\t<li>10</li>\n",
       "</ol>\n"
      ],
      "text/latex": [
       "\\begin{enumerate*}\n",
       "\\item 1\n",
       "\\item 2\n",
       "\\item 3\n",
       "\\item 4\n",
       "\\item 5\n",
       "\\item 6\n",
       "\\item 7\n",
       "\\item 8\n",
       "\\item 9\n",
       "\\item 10\n",
       "\\end{enumerate*}\n"
      ],
      "text/markdown": [
       "1. 1\n",
       "2. 2\n",
       "3. 3\n",
       "4. 4\n",
       "5. 5\n",
       "6. 6\n",
       "7. 7\n",
       "8. 8\n",
       "9. 9\n",
       "10. 10\n",
       "\n",
       "\n"
      ],
      "text/plain": [
       " [1]  1  2  3  4  5  6  7  8  9 10"
      ]
     },
     "metadata": {},
     "output_type": "display_data"
    }
   ],
   "source": [
    "as.numeric(fator)"
   ]
  },
  {
   "cell_type": "code",
   "execution_count": 24,
   "id": "10b371f5",
   "metadata": {},
   "outputs": [
    {
     "data": {
      "text/html": [
       "<ol class=list-inline>\n",
       "\t<li>'10'</li>\n",
       "\t<li>'55'</li>\n",
       "\t<li>'55'</li>\n",
       "\t<li>'12'</li>\n",
       "\t<li>'10'</li>\n",
       "\t<li>'-5'</li>\n",
       "\t<li>'-90'</li>\n",
       "</ol>\n"
      ],
      "text/latex": [
       "\\begin{enumerate*}\n",
       "\\item '10'\n",
       "\\item '55'\n",
       "\\item '55'\n",
       "\\item '12'\n",
       "\\item '10'\n",
       "\\item '-5'\n",
       "\\item '-90'\n",
       "\\end{enumerate*}\n"
      ],
      "text/markdown": [
       "1. '10'\n",
       "2. '55'\n",
       "3. '55'\n",
       "4. '12'\n",
       "5. '10'\n",
       "6. '-5'\n",
       "7. '-90'\n",
       "\n",
       "\n"
      ],
      "text/plain": [
       "[1] \"10\"  \"55\"  \"55\"  \"12\"  \"10\"  \"-5\"  \"-90\""
      ]
     },
     "metadata": {},
     "output_type": "display_data"
    }
   ],
   "source": [
    "#É um erro tranformar levels numéricos em em números\n",
    "#Texto\n",
    "vetor  <- c('10', '55','55','12','10','-5','-90')\n",
    "vetor"
   ]
  },
  {
   "cell_type": "code",
   "execution_count": 25,
   "id": "286a84d8",
   "metadata": {},
   "outputs": [
    {
     "data": {
      "text/html": [
       "<ol class=list-inline>\n",
       "\t<li>10</li>\n",
       "\t<li>55</li>\n",
       "\t<li>55</li>\n",
       "\t<li>12</li>\n",
       "\t<li>10</li>\n",
       "\t<li>-5</li>\n",
       "\t<li>-90</li>\n",
       "</ol>\n",
       "\n",
       "<details>\n",
       "\t<summary style=display:list-item;cursor:pointer>\n",
       "\t\t<strong>Levels</strong>:\n",
       "\t</summary>\n",
       "\t<ol class=list-inline>\n",
       "\t\t<li>'-5'</li>\n",
       "\t\t<li>'-90'</li>\n",
       "\t\t<li>'10'</li>\n",
       "\t\t<li>'12'</li>\n",
       "\t\t<li>'55'</li>\n",
       "\t</ol>\n",
       "</details>"
      ],
      "text/latex": [
       "\\begin{enumerate*}\n",
       "\\item 10\n",
       "\\item 55\n",
       "\\item 55\n",
       "\\item 12\n",
       "\\item 10\n",
       "\\item -5\n",
       "\\item -90\n",
       "\\end{enumerate*}\n",
       "\n",
       "\\emph{Levels}: \\begin{enumerate*}\n",
       "\\item '-5'\n",
       "\\item '-90'\n",
       "\\item '10'\n",
       "\\item '12'\n",
       "\\item '55'\n",
       "\\end{enumerate*}\n"
      ],
      "text/markdown": [
       "1. 10\n",
       "2. 55\n",
       "3. 55\n",
       "4. 12\n",
       "5. 10\n",
       "6. -5\n",
       "7. -90\n",
       "\n",
       "\n",
       "\n",
       "**Levels**: 1. '-5'\n",
       "2. '-90'\n",
       "3. '10'\n",
       "4. '12'\n",
       "5. '55'\n",
       "\n",
       "\n"
      ],
      "text/plain": [
       "[1] 10  55  55  12  10  -5  -90\n",
       "Levels: -5 -90 10 12 55"
      ]
     },
     "metadata": {},
     "output_type": "display_data"
    }
   ],
   "source": [
    "#Fator\n",
    "fator  <-  as.factor(vetor)\n",
    "fator"
   ]
  },
  {
   "cell_type": "code",
   "execution_count": 26,
   "id": "ff4e1a4e",
   "metadata": {},
   "outputs": [
    {
     "data": {
      "text/html": [
       "<ol class=list-inline>\n",
       "\t<li>3</li>\n",
       "\t<li>5</li>\n",
       "\t<li>5</li>\n",
       "\t<li>4</li>\n",
       "\t<li>3</li>\n",
       "\t<li>1</li>\n",
       "\t<li>2</li>\n",
       "</ol>\n"
      ],
      "text/latex": [
       "\\begin{enumerate*}\n",
       "\\item 3\n",
       "\\item 5\n",
       "\\item 5\n",
       "\\item 4\n",
       "\\item 3\n",
       "\\item 1\n",
       "\\item 2\n",
       "\\end{enumerate*}\n"
      ],
      "text/markdown": [
       "1. 3\n",
       "2. 5\n",
       "3. 5\n",
       "4. 4\n",
       "5. 3\n",
       "6. 1\n",
       "7. 2\n",
       "\n",
       "\n"
      ],
      "text/plain": [
       "[1] 3 5 5 4 3 1 2"
      ]
     },
     "metadata": {},
     "output_type": "display_data"
    }
   ],
   "source": [
    "#número\n",
    "as.numeric(fator)"
   ]
  },
  {
   "cell_type": "code",
   "execution_count": 28,
   "id": "204ac3df",
   "metadata": {},
   "outputs": [
    {
     "data": {
      "text/html": [
       "<ol class=list-inline>\n",
       "\t<li>'10'</li>\n",
       "\t<li>'55'</li>\n",
       "\t<li>'55'</li>\n",
       "\t<li>'12'</li>\n",
       "\t<li>'10'</li>\n",
       "\t<li>'-5'</li>\n",
       "\t<li>'-90'</li>\n",
       "</ol>\n"
      ],
      "text/latex": [
       "\\begin{enumerate*}\n",
       "\\item '10'\n",
       "\\item '55'\n",
       "\\item '55'\n",
       "\\item '12'\n",
       "\\item '10'\n",
       "\\item '-5'\n",
       "\\item '-90'\n",
       "\\end{enumerate*}\n"
      ],
      "text/markdown": [
       "1. '10'\n",
       "2. '55'\n",
       "3. '55'\n",
       "4. '12'\n",
       "5. '10'\n",
       "6. '-5'\n",
       "7. '-90'\n",
       "\n",
       "\n"
      ],
      "text/plain": [
       "[1] \"10\"  \"55\"  \"55\"  \"12\"  \"10\"  \"-5\"  \"-90\""
      ]
     },
     "metadata": {},
     "output_type": "display_data"
    }
   ],
   "source": [
    "#Para evitar esse problema, basta transformar o fator em texto e só depois em número\n",
    "#Voltando para texto\n",
    "texto  <- as.character(fator)\n",
    "texto"
   ]
  },
  {
   "cell_type": "code",
   "execution_count": 29,
   "id": "f47bf16a",
   "metadata": {},
   "outputs": [
    {
     "data": {
      "text/html": [
       "<ol class=list-inline>\n",
       "\t<li>10</li>\n",
       "\t<li>55</li>\n",
       "\t<li>55</li>\n",
       "\t<li>12</li>\n",
       "\t<li>10</li>\n",
       "\t<li>-5</li>\n",
       "\t<li>-90</li>\n",
       "</ol>\n"
      ],
      "text/latex": [
       "\\begin{enumerate*}\n",
       "\\item 10\n",
       "\\item 55\n",
       "\\item 55\n",
       "\\item 12\n",
       "\\item 10\n",
       "\\item -5\n",
       "\\item -90\n",
       "\\end{enumerate*}\n"
      ],
      "text/markdown": [
       "1. 10\n",
       "2. 55\n",
       "3. 55\n",
       "4. 12\n",
       "5. 10\n",
       "6. -5\n",
       "7. -90\n",
       "\n",
       "\n"
      ],
      "text/plain": [
       "[1]  10  55  55  12  10  -5 -90"
      ]
     },
     "metadata": {},
     "output_type": "display_data"
    }
   ],
   "source": [
    "#Transformando em números\n",
    "as.numeric(texto)"
   ]
  },
  {
   "cell_type": "markdown",
   "id": "2b0576ef",
   "metadata": {},
   "source": [
    "**Gráficos (R base)**"
   ]
  },
  {
   "cell_type": "markdown",
   "id": "19349e86",
   "metadata": {},
   "source": [
    "*  **Gráficos de dispersão e linha**: construir gráfico usando `plot()`, os principais parâmetros são `x` e `y` que são os eixos e `type`."
   ]
  },
  {
   "cell_type": "code",
   "execution_count": 37,
   "id": "5a88836c",
   "metadata": {},
   "outputs": [
    {
     "data": {
      "image/png": "[encoded data removed]",
      "text/plain": [
       "plot without title"
      ]
     },
     "metadata": {},
     "output_type": "display_data"
    }
   ],
   "source": [
    "#rnorm tá gerando uma amostra aleatória com média 0 e desvio-padrão 30\n",
    "N  <- 100\n",
    "x  <- 1:N\n",
    "y  <- 5 + 2 * x + rnorm(N, sd=30)\n",
    "\n",
    "plot(x,y)"
   ]
  },
  {
   "cell_type": "code",
   "execution_count": 41,
   "id": "ce38cdb8",
   "metadata": {},
   "outputs": [
    {
     "data": {
      "image/png": "[encoded data removed]",
      "text/plain": [
       "plot without title"
      ]
     },
     "metadata": {},
     "output_type": "display_data"
    }
   ],
   "source": [
    "#type = 'l' indica que os pontos sejam interligados por linhas\n",
    "plot(x,y, type = 'l')"
   ]
  },
  {
   "cell_type": "markdown",
   "id": "ba80b9f5",
   "metadata": {},
   "source": [
    "* **Histograma**: utiliza `hist()`, passando `x` com os valores e `breaks` com o número aproximado de retângulos."
   ]
  },
  {
   "cell_type": "code",
   "execution_count": 42,
   "id": "543ecfd9",
   "metadata": {},
   "outputs": [
    {
     "data": {
      "image/png": "[encoded data removed]",
      "text/plain": [
       "Plot with title \"Histogram of rnorm(1000)\""
      ]
     },
     "metadata": {},
     "output_type": "display_data"
    }
   ],
   "source": [
    "hist(rnorm(1000))"
   ]
  },
  {
   "cell_type": "code",
   "execution_count": 43,
   "id": "f14471cc",
   "metadata": {},
   "outputs": [
    {
     "data": {
      "image/png": "[encoded data removed]",
      "text/plain": [
       "Plot with title \"Histogram of rnorm(1000)\""
      ]
     },
     "metadata": {},
     "output_type": "display_data"
    }
   ],
   "source": [
    "hist(rnorm(1000), breaks = 6)"
   ]
  },
  {
   "cell_type": "markdown",
   "id": "5c978621",
   "metadata": {},
   "source": [
    "* **Boxplot**: Utiliza `boxplot()`, passando `x` como vetor numérico"
   ]
  },
  {
   "cell_type": "code",
   "execution_count": 48,
   "id": "ac0c8f10",
   "metadata": {},
   "outputs": [
    {
     "data": {
      "image/png": "[encoded data removed]",
      "text/plain": [
       "plot without title"
      ]
     },
     "metadata": {},
     "output_type": "display_data"
    }
   ],
   "source": [
    "#col coloca a cor\n",
    "boxplot(mtcars$mpg, col = 'lightgray')"
   ]
  },
  {
   "cell_type": "code",
   "execution_count": 49,
   "id": "bdc87ebc",
   "metadata": {},
   "outputs": [
    {
     "data": {
      "image/png": "[encoded data removed]",
      "text/plain": [
       "plot without title"
      ]
     },
     "metadata": {},
     "output_type": "display_data"
    }
   ],
   "source": [
    "#mapeando duas variáveis, passa o dataframe em 'data' e var_numerica ~ var_categoria\n",
    "boxplot(mpg ~ cyl, data = mtcars, col = 'purple')"
   ]
  },
  {
   "cell_type": "markdown",
   "id": "db874337",
   "metadata": {},
   "source": [
    "* **gráfico de barras**: combine as funções `barplot()` e `table()` "
   ]
  },
  {
   "cell_type": "code",
   "execution_count": 50,
   "id": "dc5e8850",
   "metadata": {},
   "outputs": [
    {
     "data": {
      "text/plain": [
       "\n",
       " 4  6  8 \n",
       "11  7 14 "
      ]
     },
     "metadata": {},
     "output_type": "display_data"
    }
   ],
   "source": [
    "#incluir uma tabela de frequencia com a função 'table()' e construi um gráfico com o 'barplot()'\n",
    "\n",
    "tabela  <- table(mtcars$cyl)\n",
    "tabela"
   ]
  },
  {
   "cell_type": "code",
   "execution_count": 53,
   "id": "23a456a4",
   "metadata": {},
   "outputs": [
    {
     "data": {
      "image/png": "[encoded data removed]",
      "text/plain": [
       "plot without title"
      ]
     },
     "metadata": {},
     "output_type": "display_data"
    }
   ],
   "source": [
    "barplot(tabela, col='red')"
   ]
  },
  {
   "cell_type": "code",
   "execution_count": null,
   "id": "6a7cd417",
   "metadata": {},
   "outputs": [],
   "source": []
  }
 ],
 "metadata": {
  "kernelspec": {
   "display_name": "R",
   "language": "R",
   "name": "ir"
  },
  "language_info": {
   "codemirror_mode": "r",
   "file_extension": ".r",
   "mimetype": "text/x-r-source",
   "name": "R",
   "pygments_lexer": "r",
   "version": "3.6.1"
  }
 },
 "nbformat": 4,
 "nbformat_minor": 5
}
