{
 "cells": [
  {
   "cell_type": "markdown",
   "id": "9045bb4e",
   "metadata": {},
   "source": [
    "Funções mais utilizadas:\n",
    "\n",
    "-  `c()` para criar vetor\n",
    "-  `class()` para saber qual classe do objeto\n",
    "-  `is.na()`, `is.nan()`, `is.infinite()`, `is.null` usado para saber se o valor é `NA`, `NaN`, infinito ou `NULL`"
   ]
  },
  {
   "cell_type": "code",
   "execution_count": 1,
   "id": "2d03edb8",
   "metadata": {},
   "outputs": [
    {
     "data": {
      "text/html": [
       "<ol class=list-inline>\n",
       "\t<li>1</li>\n",
       "\t<li>2</li>\n",
       "\t<li>3</li>\n",
       "</ol>\n"
      ],
      "text/latex": [
       "\\begin{enumerate*}\n",
       "\\item 1\n",
       "\\item 2\n",
       "\\item 3\n",
       "\\end{enumerate*}\n"
      ],
      "text/markdown": [
       "1. 1\n",
       "2. 2\n",
       "3. 3\n",
       "\n",
       "\n"
      ],
      "text/plain": [
       "[1] 1 2 3"
      ]
     },
     "metadata": {},
     "output_type": "display_data"
    }
   ],
   "source": [
    "c(1,2,3)"
   ]
  },
  {
   "cell_type": "code",
   "execution_count": 3,
   "id": "ba721fae",
   "metadata": {},
   "outputs": [
    {
     "data": {
      "text/html": [
       "3"
      ],
      "text/latex": [
       "3"
      ],
      "text/markdown": [
       "3"
      ],
      "text/plain": [
       "[1] 3"
      ]
     },
     "metadata": {},
     "output_type": "display_data"
    }
   ],
   "source": [
    "sum(1,2)"
   ]
  },
  {
   "cell_type": "code",
   "execution_count": 4,
   "id": "d6be1415",
   "metadata": {},
   "outputs": [
    {
     "data": {
      "text/html": [
       "7"
      ],
      "text/latex": [
       "7"
      ],
      "text/markdown": [
       "7"
      ],
      "text/plain": [
       "[1] 7"
      ]
     },
     "metadata": {},
     "output_type": "display_data"
    }
   ],
   "source": [
    "sum(c(2,5))"
   ]
  },
  {
   "cell_type": "code",
   "execution_count": 6,
   "id": "4408d2ab",
   "metadata": {},
   "outputs": [
    {
     "data": {
      "text/html": [
       "20.090625"
      ],
      "text/latex": [
       "20.090625"
      ],
      "text/markdown": [
       "20.090625"
      ],
      "text/plain": [
       "[1] 20.09062"
      ]
     },
     "metadata": {},
     "output_type": "display_data"
    }
   ],
   "source": [
    "#Calcular a média de uma coluna\n",
    "mean(mtcars$mpg)"
   ]
  },
  {
   "cell_type": "code",
   "execution_count": 9,
   "id": "2a1b7fef",
   "metadata": {},
   "outputs": [
    {
     "data": {
      "text/html": [
       "3"
      ],
      "text/latex": [
       "3"
      ],
      "text/markdown": [
       "3"
      ],
      "text/plain": [
       "[1] 3"
      ]
     },
     "metadata": {},
     "output_type": "display_data"
    }
   ],
   "source": [
    "#Fazer calculos quando tiver valores NA, passar na.rm\n",
    "mean(c(2,4,NA), na.rm = TRUE)"
   ]
  },
  {
   "cell_type": "code",
   "execution_count": 10,
   "id": "7ff8143e",
   "metadata": {},
   "outputs": [],
   "source": [
    "#Para saber detalhes sobre uma função, passe o nome dela dentro da função help\n",
    "help(mean)"
   ]
  },
  {
   "cell_type": "code",
   "execution_count": 11,
   "id": "ca8b906d",
   "metadata": {},
   "outputs": [
    {
     "data": {
      "text/html": [
       "<ol class=list-inline>\n",
       "\t<li>4</li>\n",
       "\t<li>6</li>\n",
       "\t<li>8</li>\n",
       "\t<li>10</li>\n",
       "</ol>\n"
      ],
      "text/latex": [
       "\\begin{enumerate*}\n",
       "\\item 4\n",
       "\\item 6\n",
       "\\item 8\n",
       "\\item 10\n",
       "\\end{enumerate*}\n"
      ],
      "text/markdown": [
       "1. 4\n",
       "2. 6\n",
       "3. 8\n",
       "4. 10\n",
       "\n",
       "\n"
      ],
      "text/plain": [
       "[1]  4  6  8 10"
      ]
     },
     "metadata": {},
     "output_type": "display_data"
    }
   ],
   "source": [
    "#É possivel usar uma função com ou sem o nome dos argumentos\n",
    "seq(from = 4, to = 10, by = 2)"
   ]
  },
  {
   "cell_type": "code",
   "execution_count": 12,
   "id": "31311a6c",
   "metadata": {},
   "outputs": [
    {
     "data": {
      "text/html": [
       "<ol class=list-inline>\n",
       "\t<li>4</li>\n",
       "\t<li>6</li>\n",
       "\t<li>8</li>\n",
       "\t<li>10</li>\n",
       "</ol>\n"
      ],
      "text/latex": [
       "\\begin{enumerate*}\n",
       "\\item 4\n",
       "\\item 6\n",
       "\\item 8\n",
       "\\item 10\n",
       "\\end{enumerate*}\n"
      ],
      "text/markdown": [
       "1. 4\n",
       "2. 6\n",
       "3. 8\n",
       "4. 10\n",
       "\n",
       "\n"
      ],
      "text/plain": [
       "[1]  4  6  8 10"
      ]
     },
     "metadata": {},
     "output_type": "display_data"
    }
   ],
   "source": [
    "seq(4,10,2)"
   ]
  },
  {
   "cell_type": "markdown",
   "id": "7188312d",
   "metadata": {},
   "source": [
    "Funções úteis para trabalhar com data frame:\n",
    "\n",
    "- `head()` - Mostra as primeiras 6 linhas.\n",
    "- `tail()` - Mostra as últimas 6 linhas.\n",
    "- `dim()` - Número de linhas e de colunas.\n",
    "- `names()` - Os nomes das colunas (variáveis).\n",
    "- `str()` - Estrutura do data frame. Mostra, entre outras coisas, as classes de cada coluna.\n",
    "- `cbind()` - Acopla duas tabelas lado a lado.\n",
    "- `rbind()` - Empilha duas tabelas."
   ]
  },
  {
   "cell_type": "code",
   "execution_count": 13,
   "id": "b72adb9b",
   "metadata": {},
   "outputs": [],
   "source": [
    "#É possivel criar sua própria função\n",
    "\n",
    "nome_da_função  <- function(argumento_1, argumento_2){\n",
    "    #código que a função irá executar\n",
    "}"
   ]
  },
  {
   "cell_type": "code",
   "execution_count": 15,
   "id": "667c712c",
   "metadata": {},
   "outputs": [
    {
     "data": {
      "text/html": [
       "4"
      ],
      "text/latex": [
       "4"
      ],
      "text/markdown": [
       "4"
      ],
      "text/plain": [
       "[1] 4"
      ]
     },
     "metadata": {},
     "output_type": "display_data"
    }
   ],
   "source": [
    "#Exemplo de uma função criada\n",
    "\n",
    "minha_soma  <- function(x,y) {\n",
    "    soma  <- x + y\n",
    "    soma #resultado retornado\n",
    "}\n",
    "\n",
    "minha_soma(2,2)"
   ]
  },
  {
   "cell_type": "code",
   "execution_count": 16,
   "id": "a1f9d5a3",
   "metadata": {},
   "outputs": [
    {
     "data": {
      "text/html": [
       "8"
      ],
      "text/latex": [
       "8"
      ],
      "text/markdown": [
       "8"
      ],
      "text/plain": [
       "[1] 8"
      ]
     },
     "metadata": {},
     "output_type": "display_data"
    }
   ],
   "source": [
    "resultado  <- minha_soma(4,4)\n",
    "resultado"
   ]
  },
  {
   "cell_type": "code",
   "execution_count": 17,
   "id": "d090669e",
   "metadata": {},
   "outputs": [],
   "source": [
    "minha_nova_soma  <- function(x, y) {\n",
    "    soma  <- x + y\n",
    "}"
   ]
  },
  {
   "cell_type": "code",
   "execution_count": 18,
   "id": "51773c3c",
   "metadata": {},
   "outputs": [],
   "source": [
    "#Não é possivel visualizar o resultado, a não ser que coloque a função dentro de uma variável\n",
    "minha_nova_soma(2,3)"
   ]
  },
  {
   "cell_type": "code",
   "execution_count": 20,
   "id": "7e81ba79",
   "metadata": {},
   "outputs": [
    {
     "data": {
      "text/html": [
       "5"
      ],
      "text/latex": [
       "5"
      ],
      "text/markdown": [
       "5"
      ],
      "text/plain": [
       "[1] 5"
      ]
     },
     "metadata": {},
     "output_type": "display_data"
    }
   ],
   "source": [
    "resultado  <- minha_nova_soma(2,3)\n",
    "resultado"
   ]
  },
  {
   "cell_type": "markdown",
   "id": "b35b9b74",
   "metadata": {},
   "source": [
    "<b>Exercícios</b>\n",
    "\n",
    "1. Qual dos códigos abaixo devolverá um erro se for avaliado?\n",
    "\n",
    "a.  3 * 5 + 10\n",
    "\n",
    "b.  function  <- 10\n",
    "\n",
    "c.  mean(1, 10)\n",
    "\n",
    "d.  (soma <- sum(1, 1))"
   ]
  },
  {
   "cell_type": "code",
   "execution_count": 21,
   "id": "24deea9d",
   "metadata": {},
   "outputs": [
    {
     "data": {
      "text/html": [
       "25"
      ],
      "text/latex": [
       "25"
      ],
      "text/markdown": [
       "25"
      ],
      "text/plain": [
       "[1] 25"
      ]
     },
     "metadata": {},
     "output_type": "display_data"
    }
   ],
   "source": [
    "3*5 + 10"
   ]
  },
  {
   "cell_type": "code",
   "execution_count": 22,
   "id": "7a151634",
   "metadata": {
    "scrolled": true
   },
   "outputs": [
    {
     "ename": "ERROR",
     "evalue": "Error in parse(text = x, srcfile = src): <text>:1:11: unexpected assignment\n1: function  <-\n              ^\n",
     "output_type": "error",
     "traceback": [
      "Error in parse(text = x, srcfile = src): <text>:1:11: unexpected assignment\n1: function  <-\n              ^\nTraceback:\n"
     ]
    }
   ],
   "source": [
    "function  <-  10"
   ]
  },
  {
   "cell_type": "code",
   "execution_count": 52,
   "id": "65350dfb",
   "metadata": {},
   "outputs": [
    {
     "data": {
      "text/html": [
       "1"
      ],
      "text/latex": [
       "1"
      ],
      "text/markdown": [
       "1"
      ],
      "text/plain": [
       "[1] 1"
      ]
     },
     "metadata": {},
     "output_type": "display_data"
    }
   ],
   "source": [
    "mean(1,10)\n",
    "#Não retorna erro, mas o correto deveria ser\n",
    "#mean(c(1,10))"
   ]
  },
  {
   "cell_type": "code",
   "execution_count": 24,
   "id": "2e99458e",
   "metadata": {},
   "outputs": [
    {
     "data": {
      "text/html": [
       "2"
      ],
      "text/latex": [
       "2"
      ],
      "text/markdown": [
       "2"
      ],
      "text/plain": [
       "[1] 2"
      ]
     },
     "metadata": {},
     "output_type": "display_data"
    }
   ],
   "source": [
    "(soma  <- sum(1,1))"
   ]
  },
  {
   "cell_type": "markdown",
   "id": "565fb93e",
   "metadata": {},
   "source": [
    "2. Crie uma função que receba um número e retorne o quadrado deste número."
   ]
  },
  {
   "cell_type": "code",
   "execution_count": 53,
   "id": "e5789968",
   "metadata": {},
   "outputs": [
    {
     "data": {
      "text/html": [
       "25"
      ],
      "text/latex": [
       "25"
      ],
      "text/markdown": [
       "25"
      ],
      "text/plain": [
       "[1] 25"
      ]
     },
     "metadata": {},
     "output_type": "display_data"
    }
   ],
   "source": [
    "quadrado  <- function(x) {\n",
    "    quad  <- x^2\n",
    "    quad\n",
    "}\n",
    "\n",
    "quadrado(5)"
   ]
  },
  {
   "cell_type": "markdown",
   "id": "4f13b1b3",
   "metadata": {},
   "source": [
    "3. Crie uma função que receba 2 números e devolva a raiz quadrada da soma desses números."
   ]
  },
  {
   "cell_type": "code",
   "execution_count": 31,
   "id": "36449dc1",
   "metadata": {},
   "outputs": [
    {
     "data": {
      "text/html": [
       "5"
      ],
      "text/latex": [
       "5"
      ],
      "text/markdown": [
       "5"
      ],
      "text/plain": [
       "[1] 5"
      ]
     },
     "metadata": {},
     "output_type": "display_data"
    }
   ],
   "source": [
    "raiz_quadrada  <- function(x,y) {\n",
    "    rq  <- sqrt(x+y)\n",
    "    rq\n",
    "}\n",
    "raiz_quadrada(10,15)"
   ]
  },
  {
   "cell_type": "markdown",
   "id": "b9136675",
   "metadata": {},
   "source": [
    "4. Crie uma função que receba dois valores (numéricos) e devolva o maior deles."
   ]
  },
  {
   "cell_type": "code",
   "execution_count": 59,
   "id": "bfa9c296",
   "metadata": {},
   "outputs": [
    {
     "data": {
      "text/html": [
       "5"
      ],
      "text/latex": [
       "5"
      ],
      "text/markdown": [
       "5"
      ],
      "text/plain": [
       "[1] 5"
      ]
     },
     "metadata": {},
     "output_type": "display_data"
    }
   ],
   "source": [
    "maior_numero  <- function(x,y){\n",
    "    maior  <- max(x,y)\n",
    "    maior\n",
    "}\n",
    "maior_numero(5, 2)\n",
    "\n",
    "#Outro jeito\n",
    "#retornar_maior <- function(x, y) {\n",
    "#  vetor <- c(x, y)\n",
    "#  filtro <- c(x > y, x <= y)\n",
    "#  vetor[filtro]\n",
    "#}"
   ]
  },
  {
   "cell_type": "markdown",
   "id": "60bbde8c",
   "metadata": {},
   "source": [
    "5. Use a função `runif()` para criar uma função que retorne um número aleatório inteiro entre 0 e 10 (0 e 10 inclusive). Caso você não conheça a função runif(), rode help(runif) para ler a sua documentação."
   ]
  },
  {
   "cell_type": "code",
   "execution_count": 62,
   "id": "00b17407",
   "metadata": {},
   "outputs": [
    {
     "data": {
      "text/html": [
       "4"
      ],
      "text/latex": [
       "4"
      ],
      "text/markdown": [
       "4"
      ],
      "text/plain": [
       "[1] 4"
      ]
     },
     "metadata": {},
     "output_type": "display_data"
    }
   ],
   "source": [
    "aleatorio  <- function(){\n",
    "    numero  <- runif(1, min = 0, max = 10)\n",
    "    numero_inteiro  <- round(numero)\n",
    "    return(numero_inteiro)\n",
    "}\n",
    "aleatorio()"
   ]
  },
  {
   "cell_type": "markdown",
   "id": "1c145071",
   "metadata": {},
   "source": [
    "6. Rode help(sample) para descobrir o que a função sample() faz. Em seguida\n",
    "\n",
    "    a. use-a para escrever uma função que devolva uma linha aleatória de um data frame;"
   ]
  },
  {
   "cell_type": "code",
   "execution_count": 49,
   "id": "b0370c06",
   "metadata": {},
   "outputs": [],
   "source": [
    "#devolve uma linha aleatoria do data frame\n",
    "help(sample)"
   ]
  },
  {
   "cell_type": "code",
   "execution_count": 65,
   "id": "401b2063",
   "metadata": {},
   "outputs": [
    {
     "data": {
      "text/html": [
       "<table>\n",
       "<thead><tr><th></th><th scope=col>mpg</th><th scope=col>cyl</th><th scope=col>disp</th><th scope=col>hp</th><th scope=col>drat</th><th scope=col>wt</th><th scope=col>qsec</th><th scope=col>vs</th><th scope=col>am</th><th scope=col>gear</th><th scope=col>carb</th></tr></thead>\n",
       "<tbody>\n",
       "\t<tr><th scope=row>Chrysler Imperial</th><td>14.7 </td><td>8    </td><td>440  </td><td>230  </td><td>3.23 </td><td>5.345</td><td>17.42</td><td>0    </td><td>0    </td><td>3    </td><td>4    </td></tr>\n",
       "</tbody>\n",
       "</table>\n"
      ],
      "text/latex": [
       "\\begin{tabular}{r|lllllllllll}\n",
       "  & mpg & cyl & disp & hp & drat & wt & qsec & vs & am & gear & carb\\\\\n",
       "\\hline\n",
       "\tChrysler Imperial & 14.7  & 8     & 440   & 230   & 3.23  & 5.345 & 17.42 & 0     & 0     & 3     & 4    \\\\\n",
       "\\end{tabular}\n"
      ],
      "text/markdown": [
       "\n",
       "| <!--/--> | mpg | cyl | disp | hp | drat | wt | qsec | vs | am | gear | carb |\n",
       "|---|---|---|---|---|---|---|---|---|---|---|---|\n",
       "| Chrysler Imperial | 14.7  | 8     | 440   | 230   | 3.23  | 5.345 | 17.42 | 0     | 0     | 3     | 4     |\n",
       "\n"
      ],
      "text/plain": [
       "                  mpg  cyl disp hp  drat wt    qsec  vs am gear carb\n",
       "Chrysler Imperial 14.7 8   440  230 3.23 5.345 17.42 0  0  3    4   "
      ]
     },
     "metadata": {},
     "output_type": "display_data"
    }
   ],
   "source": [
    "linha_aleatoria  <- function(df) {\n",
    "    num_linhas  <- nrow(df)\n",
    "    linha_sorteada  <- sample(1:num_linhas, 1)\n",
    "    df[linha_sorteada,]\n",
    "}\n",
    "linha_aleatoria(mtcars)"
   ]
  },
  {
   "cell_type": "markdown",
   "id": "bab4462c",
   "metadata": {},
   "source": [
    "b. generalize a função para retornar um número qualquer de linhas, escolhido pelo usuário."
   ]
  },
  {
   "cell_type": "code",
   "execution_count": 67,
   "id": "175a5381",
   "metadata": {},
   "outputs": [
    {
     "data": {
      "text/html": [
       "<table>\n",
       "<thead><tr><th></th><th scope=col>mpg</th><th scope=col>cyl</th><th scope=col>disp</th><th scope=col>hp</th><th scope=col>drat</th><th scope=col>wt</th><th scope=col>qsec</th><th scope=col>vs</th><th scope=col>am</th><th scope=col>gear</th><th scope=col>carb</th></tr></thead>\n",
       "<tbody>\n",
       "\t<tr><th scope=row>Merc 230</th><td>22.8 </td><td>4    </td><td>140.8</td><td> 95  </td><td>3.92 </td><td>3.150</td><td>22.9 </td><td>1    </td><td>0    </td><td>4    </td><td>2    </td></tr>\n",
       "\t<tr><th scope=row>Lotus Europa</th><td>30.4 </td><td>4    </td><td> 95.1</td><td>113  </td><td>3.77 </td><td>1.513</td><td>16.9 </td><td>1    </td><td>1    </td><td>5    </td><td>2    </td></tr>\n",
       "</tbody>\n",
       "</table>\n"
      ],
      "text/latex": [
       "\\begin{tabular}{r|lllllllllll}\n",
       "  & mpg & cyl & disp & hp & drat & wt & qsec & vs & am & gear & carb\\\\\n",
       "\\hline\n",
       "\tMerc 230 & 22.8  & 4     & 140.8 &  95   & 3.92  & 3.150 & 22.9  & 1     & 0     & 4     & 2    \\\\\n",
       "\tLotus Europa & 30.4  & 4     &  95.1 & 113   & 3.77  & 1.513 & 16.9  & 1     & 1     & 5     & 2    \\\\\n",
       "\\end{tabular}\n"
      ],
      "text/markdown": [
       "\n",
       "| <!--/--> | mpg | cyl | disp | hp | drat | wt | qsec | vs | am | gear | carb |\n",
       "|---|---|---|---|---|---|---|---|---|---|---|---|\n",
       "| Merc 230 | 22.8  | 4     | 140.8 |  95   | 3.92  | 3.150 | 22.9  | 1     | 0     | 4     | 2     |\n",
       "| Lotus Europa | 30.4  | 4     |  95.1 | 113   | 3.77  | 1.513 | 16.9  | 1     | 1     | 5     | 2     |\n",
       "\n"
      ],
      "text/plain": [
       "             mpg  cyl disp  hp  drat wt    qsec vs am gear carb\n",
       "Merc 230     22.8 4   140.8  95 3.92 3.150 22.9 1  0  4    2   \n",
       "Lotus Europa 30.4 4    95.1 113 3.77 1.513 16.9 1  1  5    2   "
      ]
     },
     "metadata": {},
     "output_type": "display_data"
    }
   ],
   "source": [
    "linha_aleatoria  <- function(df, n) {\n",
    "    num_linhas  <- nrow(df)\n",
    "    linha_sorteada  <- sample(1:num_linhas, n)\n",
    "    df[linha_sorteada,]\n",
    "}\n",
    "linha_aleatoria(mtcars, 2)"
   ]
  },
  {
   "cell_type": "code",
   "execution_count": null,
   "id": "740c8bac",
   "metadata": {},
   "outputs": [],
   "source": []
  }
 ],
 "metadata": {
  "kernelspec": {
   "display_name": "R",
   "language": "R",
   "name": "ir"
  },
  "language_info": {
   "codemirror_mode": "r",
   "file_extension": ".r",
   "mimetype": "text/x-r-source",
   "name": "R",
   "pygments_lexer": "r",
   "version": "3.6.1"
  }
 },
 "nbformat": 4,
 "nbformat_minor": 5
}
