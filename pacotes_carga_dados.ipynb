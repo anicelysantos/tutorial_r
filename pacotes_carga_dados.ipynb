{
  "nbformat": 4,
  "nbformat_minor": 0,
  "metadata": {
    "colab": {
      "name": "pacotes_carga_dados.ipynb",
      "provenance": [],
      "authorship_tag": "ABX9TyOzZUKszO4gIdTODGalsDIt",
      "include_colab_link": true
    },
    "kernelspec": {
      "name": "ir",
      "display_name": "R"
    },
    "language_info": {
      "name": "R"
    }
  },
  "cells": [
    {
      "cell_type": "markdown",
      "metadata": {
        "id": "view-in-github",
        "colab_type": "text"
      },
      "source": [
        "<a href=\"https://colab.research.google.com/github/anicelysantos/tutorial_r/blob/main/pacotes_carga_dados.ipynb\" target=\"_parent\"><img src=\"https://colab.research.google.com/assets/colab-badge.svg\" alt=\"Open In Colab\"/></a>"
      ]
    },
    {
      "cell_type": "code",
      "metadata": {
        "id": "re-0qzuXW7yx"
      },
      "source": [
        "library(readr) \n"
      ],
      "execution_count": 10,
      "outputs": []
    },
    {
      "cell_type": "markdown",
      "metadata": {
        "id": "5GLIG-f__Pj4"
      },
      "source": [
        "# Arquivos .csv e .txt"
      ]
    },
    {
      "cell_type": "code",
      "metadata": {
        "colab": {
          "base_uri": "https://localhost:8080/",
          "height": 497
        },
        "id": "MRjaJYWmbIkK",
        "outputId": "87a8d223-32a7-4a55-c3df-426b2a18eacd"
      },
      "source": [
        "#arquivos separados por vírgula\n",
        "imdb_csv <- read.csv(file = '/content/sample_data/imdb.csv')\n",
        "head(imdb_csv)"
      ],
      "execution_count": 17,
      "outputs": [
        {
          "output_type": "display_data",
          "data": {
            "text/plain": [
              "  titulo                                    ano  diretor           duracao\n",
              "1 Avatar                                    2009 James Cameron     178    \n",
              "2 Pirates of the Caribbean: At World's End  2007 Gore Verbinski    169    \n",
              "3 The Dark Knight Rises                     2012 Christopher Nolan 164    \n",
              "4 John Carter                               2012 Andrew Stanton    132    \n",
              "5 Spider-Man 3                              2007 Sam Raimi         156    \n",
              "6 Tangled                                   2010 Nathan Greno      100    \n",
              "  cor   generos                                                   pais\n",
              "1 Color Action|Adventure|Fantasy|Sci-Fi                           USA \n",
              "2 Color Action|Adventure|Fantasy                                  USA \n",
              "3 Color Action|Thriller                                           USA \n",
              "4 Color Action|Adventure|Sci-Fi                                   USA \n",
              "5 Color Action|Adventure|Romance                                  USA \n",
              "6 Color Adventure|Animation|Comedy|Family|Fantasy|Musical|Romance USA \n",
              "  classificacao       orcamento receita   nota_imdb likes_facebook ator_1      \n",
              "1 A partir de 13 anos 237000000 760505847 7.9        33000         CCH Pounder \n",
              "2 A partir de 13 anos 300000000 309404152 7.1            0         Johnny Depp \n",
              "3 A partir de 13 anos 250000000 448130642 8.5       164000         Tom Hardy   \n",
              "4 A partir de 13 anos 263700000  73058679 6.6        24000         Daryl Sabara\n",
              "5 A partir de 13 anos 258000000 336530303 6.2            0         J.K. Simmons\n",
              "6 Livre               260000000 200807262 7.8        29000         Brad Garrett\n",
              "  ator_2           ator_3              \n",
              "1 Joel David Moore Wes Studi           \n",
              "2 Orlando Bloom    Jack Davenport      \n",
              "3 Christian Bale   Joseph Gordon-Levitt\n",
              "4 Samantha Morton  Polly Walker        \n",
              "5 James Franco     Kirsten Dunst       \n",
              "6 Donna Murphy     M.C. Gainey         "
            ],
            "text/latex": "A data.frame: 6 × 15\n\\begin{tabular}{r|lllllllllllllll}\n  & titulo & ano & diretor & duracao & cor & generos & pais & classificacao & orcamento & receita & nota\\_imdb & likes\\_facebook & ator\\_1 & ator\\_2 & ator\\_3\\\\\n  & <chr> & <int> & <chr> & <int> & <chr> & <chr> & <chr> & <chr> & <int> & <int> & <dbl> & <int> & <chr> & <chr> & <chr>\\\\\n\\hline\n\t1 & Avatar                                    & 2009 & James Cameron     & 178 & Color & Action\\textbar{}Adventure\\textbar{}Fantasy\\textbar{}Sci-Fi                           & USA & A partir de 13 anos & 237000000 & 760505847 & 7.9 &  33000 & CCH Pounder  & Joel David Moore & Wes Studi           \\\\\n\t2 & Pirates of the Caribbean: At World's End  & 2007 & Gore Verbinski    & 169 & Color & Action\\textbar{}Adventure\\textbar{}Fantasy                                  & USA & A partir de 13 anos & 300000000 & 309404152 & 7.1 &      0 & Johnny Depp  & Orlando Bloom    & Jack Davenport      \\\\\n\t3 & The Dark Knight Rises                     & 2012 & Christopher Nolan & 164 & Color & Action\\textbar{}Thriller                                           & USA & A partir de 13 anos & 250000000 & 448130642 & 8.5 & 164000 & Tom Hardy    & Christian Bale   & Joseph Gordon-Levitt\\\\\n\t4 & John Carter                               & 2012 & Andrew Stanton    & 132 & Color & Action\\textbar{}Adventure\\textbar{}Sci-Fi                                   & USA & A partir de 13 anos & 263700000 &  73058679 & 6.6 &  24000 & Daryl Sabara & Samantha Morton  & Polly Walker        \\\\\n\t5 & Spider-Man 3                              & 2007 & Sam Raimi         & 156 & Color & Action\\textbar{}Adventure\\textbar{}Romance                                  & USA & A partir de 13 anos & 258000000 & 336530303 & 6.2 &      0 & J.K. Simmons & James Franco     & Kirsten Dunst       \\\\\n\t6 & Tangled                                   & 2010 & Nathan Greno      & 100 & Color & Adventure\\textbar{}Animation\\textbar{}Comedy\\textbar{}Family\\textbar{}Fantasy\\textbar{}Musical\\textbar{}Romance & USA & Livre               & 260000000 & 200807262 & 7.8 &  29000 & Brad Garrett & Donna Murphy     & M.C. Gainey         \\\\\n\\end{tabular}\n",
            "text/markdown": "\nA data.frame: 6 × 15\n\n| <!--/--> | titulo &lt;chr&gt; | ano &lt;int&gt; | diretor &lt;chr&gt; | duracao &lt;int&gt; | cor &lt;chr&gt; | generos &lt;chr&gt; | pais &lt;chr&gt; | classificacao &lt;chr&gt; | orcamento &lt;int&gt; | receita &lt;int&gt; | nota_imdb &lt;dbl&gt; | likes_facebook &lt;int&gt; | ator_1 &lt;chr&gt; | ator_2 &lt;chr&gt; | ator_3 &lt;chr&gt; |\n|---|---|---|---|---|---|---|---|---|---|---|---|---|---|---|---|\n| 1 | Avatar                                    | 2009 | James Cameron     | 178 | Color | Action|Adventure|Fantasy|Sci-Fi                           | USA | A partir de 13 anos | 237000000 | 760505847 | 7.9 |  33000 | CCH Pounder  | Joel David Moore | Wes Studi            |\n| 2 | Pirates of the Caribbean: At World's End  | 2007 | Gore Verbinski    | 169 | Color | Action|Adventure|Fantasy                                  | USA | A partir de 13 anos | 300000000 | 309404152 | 7.1 |      0 | Johnny Depp  | Orlando Bloom    | Jack Davenport       |\n| 3 | The Dark Knight Rises                     | 2012 | Christopher Nolan | 164 | Color | Action|Thriller                                           | USA | A partir de 13 anos | 250000000 | 448130642 | 8.5 | 164000 | Tom Hardy    | Christian Bale   | Joseph Gordon-Levitt |\n| 4 | John Carter                               | 2012 | Andrew Stanton    | 132 | Color | Action|Adventure|Sci-Fi                                   | USA | A partir de 13 anos | 263700000 |  73058679 | 6.6 |  24000 | Daryl Sabara | Samantha Morton  | Polly Walker         |\n| 5 | Spider-Man 3                              | 2007 | Sam Raimi         | 156 | Color | Action|Adventure|Romance                                  | USA | A partir de 13 anos | 258000000 | 336530303 | 6.2 |      0 | J.K. Simmons | James Franco     | Kirsten Dunst        |\n| 6 | Tangled                                   | 2010 | Nathan Greno      | 100 | Color | Adventure|Animation|Comedy|Family|Fantasy|Musical|Romance | USA | Livre               | 260000000 | 200807262 | 7.8 |  29000 | Brad Garrett | Donna Murphy     | M.C. Gainey          |\n\n",
            "text/html": [
              "<table class=\"dataframe\">\n",
              "<caption>A data.frame: 6 × 15</caption>\n",
              "<thead>\n",
              "\t<tr><th></th><th scope=col>titulo</th><th scope=col>ano</th><th scope=col>diretor</th><th scope=col>duracao</th><th scope=col>cor</th><th scope=col>generos</th><th scope=col>pais</th><th scope=col>classificacao</th><th scope=col>orcamento</th><th scope=col>receita</th><th scope=col>nota_imdb</th><th scope=col>likes_facebook</th><th scope=col>ator_1</th><th scope=col>ator_2</th><th scope=col>ator_3</th></tr>\n",
              "\t<tr><th></th><th scope=col>&lt;chr&gt;</th><th scope=col>&lt;int&gt;</th><th scope=col>&lt;chr&gt;</th><th scope=col>&lt;int&gt;</th><th scope=col>&lt;chr&gt;</th><th scope=col>&lt;chr&gt;</th><th scope=col>&lt;chr&gt;</th><th scope=col>&lt;chr&gt;</th><th scope=col>&lt;int&gt;</th><th scope=col>&lt;int&gt;</th><th scope=col>&lt;dbl&gt;</th><th scope=col>&lt;int&gt;</th><th scope=col>&lt;chr&gt;</th><th scope=col>&lt;chr&gt;</th><th scope=col>&lt;chr&gt;</th></tr>\n",
              "</thead>\n",
              "<tbody>\n",
              "\t<tr><th scope=row>1</th><td>Avatar                                   </td><td>2009</td><td>James Cameron    </td><td>178</td><td>Color</td><td>Action|Adventure|Fantasy|Sci-Fi                          </td><td>USA</td><td>A partir de 13 anos</td><td>237000000</td><td>760505847</td><td>7.9</td><td> 33000</td><td>CCH Pounder </td><td>Joel David Moore</td><td>Wes Studi           </td></tr>\n",
              "\t<tr><th scope=row>2</th><td>Pirates of the Caribbean: At World's End </td><td>2007</td><td>Gore Verbinski   </td><td>169</td><td>Color</td><td>Action|Adventure|Fantasy                                 </td><td>USA</td><td>A partir de 13 anos</td><td>300000000</td><td>309404152</td><td>7.1</td><td>     0</td><td>Johnny Depp </td><td>Orlando Bloom   </td><td>Jack Davenport      </td></tr>\n",
              "\t<tr><th scope=row>3</th><td>The Dark Knight Rises                    </td><td>2012</td><td>Christopher Nolan</td><td>164</td><td>Color</td><td>Action|Thriller                                          </td><td>USA</td><td>A partir de 13 anos</td><td>250000000</td><td>448130642</td><td>8.5</td><td>164000</td><td>Tom Hardy   </td><td>Christian Bale  </td><td>Joseph Gordon-Levitt</td></tr>\n",
              "\t<tr><th scope=row>4</th><td>John Carter                              </td><td>2012</td><td>Andrew Stanton   </td><td>132</td><td>Color</td><td>Action|Adventure|Sci-Fi                                  </td><td>USA</td><td>A partir de 13 anos</td><td>263700000</td><td> 73058679</td><td>6.6</td><td> 24000</td><td>Daryl Sabara</td><td>Samantha Morton </td><td>Polly Walker        </td></tr>\n",
              "\t<tr><th scope=row>5</th><td>Spider-Man 3                             </td><td>2007</td><td>Sam Raimi        </td><td>156</td><td>Color</td><td>Action|Adventure|Romance                                 </td><td>USA</td><td>A partir de 13 anos</td><td>258000000</td><td>336530303</td><td>6.2</td><td>     0</td><td>J.K. Simmons</td><td>James Franco    </td><td>Kirsten Dunst       </td></tr>\n",
              "\t<tr><th scope=row>6</th><td>Tangled                                  </td><td>2010</td><td>Nathan Greno     </td><td>100</td><td>Color</td><td>Adventure|Animation|Comedy|Family|Fantasy|Musical|Romance</td><td>USA</td><td>Livre              </td><td>260000000</td><td>200807262</td><td>7.8</td><td> 29000</td><td>Brad Garrett</td><td>Donna Murphy    </td><td>M.C. Gainey         </td></tr>\n",
              "</tbody>\n",
              "</table>\n"
            ]
          },
          "metadata": {}
        }
      ]
    },
    {
      "cell_type": "code",
      "metadata": {
        "colab": {
          "base_uri": "https://localhost:8080/",
          "height": 497
        },
        "id": "-jgupAHK9sA1",
        "outputId": "ca8ee839-ab3f-4208-bd5e-796e809323fe"
      },
      "source": [
        "#arquivos separados por ponto e virgula\n",
        "imdb_csv2 <- read.csv2('/content/sample_data/imdb2.csv')\n",
        "head(imdb_csv2)"
      ],
      "execution_count": 16,
      "outputs": [
        {
          "output_type": "display_data",
          "data": {
            "text/plain": [
              "  titulo                                    ano  diretor           duracao\n",
              "1 Avatar                                    2009 James Cameron     178    \n",
              "2 Pirates of the Caribbean: At World's End  2007 Gore Verbinski    169    \n",
              "3 The Dark Knight Rises                     2012 Christopher Nolan 164    \n",
              "4 John Carter                               2012 Andrew Stanton    132    \n",
              "5 Spider-Man 3                              2007 Sam Raimi         156    \n",
              "6 Tangled                                   2010 Nathan Greno      100    \n",
              "  cor   generos                                                   pais\n",
              "1 Color Action|Adventure|Fantasy|Sci-Fi                           USA \n",
              "2 Color Action|Adventure|Fantasy                                  USA \n",
              "3 Color Action|Thriller                                           USA \n",
              "4 Color Action|Adventure|Sci-Fi                                   USA \n",
              "5 Color Action|Adventure|Romance                                  USA \n",
              "6 Color Adventure|Animation|Comedy|Family|Fantasy|Musical|Romance USA \n",
              "  classificacao       orcamento receita   nota_imdb likes_facebook ator_1      \n",
              "1 A partir de 13 anos 237000000 760505847 7.9        33000         CCH Pounder \n",
              "2 A partir de 13 anos 300000000 309404152 7.1            0         Johnny Depp \n",
              "3 A partir de 13 anos 250000000 448130642 8.5       164000         Tom Hardy   \n",
              "4 A partir de 13 anos 263700000  73058679 6.6        24000         Daryl Sabara\n",
              "5 A partir de 13 anos 258000000 336530303 6.2            0         J.K. Simmons\n",
              "6 Livre               260000000 200807262 7.8        29000         Brad Garrett\n",
              "  ator_2           ator_3              \n",
              "1 Joel David Moore Wes Studi           \n",
              "2 Orlando Bloom    Jack Davenport      \n",
              "3 Christian Bale   Joseph Gordon-Levitt\n",
              "4 Samantha Morton  Polly Walker        \n",
              "5 James Franco     Kirsten Dunst       \n",
              "6 Donna Murphy     M.C. Gainey         "
            ],
            "text/latex": "A data.frame: 6 × 15\n\\begin{tabular}{r|lllllllllllllll}\n  & titulo & ano & diretor & duracao & cor & generos & pais & classificacao & orcamento & receita & nota\\_imdb & likes\\_facebook & ator\\_1 & ator\\_2 & ator\\_3\\\\\n  & <chr> & <int> & <chr> & <int> & <chr> & <chr> & <chr> & <chr> & <int> & <int> & <dbl> & <int> & <chr> & <chr> & <chr>\\\\\n\\hline\n\t1 & Avatar                                    & 2009 & James Cameron     & 178 & Color & Action\\textbar{}Adventure\\textbar{}Fantasy\\textbar{}Sci-Fi                           & USA & A partir de 13 anos & 237000000 & 760505847 & 7.9 &  33000 & CCH Pounder  & Joel David Moore & Wes Studi           \\\\\n\t2 & Pirates of the Caribbean: At World's End  & 2007 & Gore Verbinski    & 169 & Color & Action\\textbar{}Adventure\\textbar{}Fantasy                                  & USA & A partir de 13 anos & 300000000 & 309404152 & 7.1 &      0 & Johnny Depp  & Orlando Bloom    & Jack Davenport      \\\\\n\t3 & The Dark Knight Rises                     & 2012 & Christopher Nolan & 164 & Color & Action\\textbar{}Thriller                                           & USA & A partir de 13 anos & 250000000 & 448130642 & 8.5 & 164000 & Tom Hardy    & Christian Bale   & Joseph Gordon-Levitt\\\\\n\t4 & John Carter                               & 2012 & Andrew Stanton    & 132 & Color & Action\\textbar{}Adventure\\textbar{}Sci-Fi                                   & USA & A partir de 13 anos & 263700000 &  73058679 & 6.6 &  24000 & Daryl Sabara & Samantha Morton  & Polly Walker        \\\\\n\t5 & Spider-Man 3                              & 2007 & Sam Raimi         & 156 & Color & Action\\textbar{}Adventure\\textbar{}Romance                                  & USA & A partir de 13 anos & 258000000 & 336530303 & 6.2 &      0 & J.K. Simmons & James Franco     & Kirsten Dunst       \\\\\n\t6 & Tangled                                   & 2010 & Nathan Greno      & 100 & Color & Adventure\\textbar{}Animation\\textbar{}Comedy\\textbar{}Family\\textbar{}Fantasy\\textbar{}Musical\\textbar{}Romance & USA & Livre               & 260000000 & 200807262 & 7.8 &  29000 & Brad Garrett & Donna Murphy     & M.C. Gainey         \\\\\n\\end{tabular}\n",
            "text/markdown": "\nA data.frame: 6 × 15\n\n| <!--/--> | titulo &lt;chr&gt; | ano &lt;int&gt; | diretor &lt;chr&gt; | duracao &lt;int&gt; | cor &lt;chr&gt; | generos &lt;chr&gt; | pais &lt;chr&gt; | classificacao &lt;chr&gt; | orcamento &lt;int&gt; | receita &lt;int&gt; | nota_imdb &lt;dbl&gt; | likes_facebook &lt;int&gt; | ator_1 &lt;chr&gt; | ator_2 &lt;chr&gt; | ator_3 &lt;chr&gt; |\n|---|---|---|---|---|---|---|---|---|---|---|---|---|---|---|---|\n| 1 | Avatar                                    | 2009 | James Cameron     | 178 | Color | Action|Adventure|Fantasy|Sci-Fi                           | USA | A partir de 13 anos | 237000000 | 760505847 | 7.9 |  33000 | CCH Pounder  | Joel David Moore | Wes Studi            |\n| 2 | Pirates of the Caribbean: At World's End  | 2007 | Gore Verbinski    | 169 | Color | Action|Adventure|Fantasy                                  | USA | A partir de 13 anos | 300000000 | 309404152 | 7.1 |      0 | Johnny Depp  | Orlando Bloom    | Jack Davenport       |\n| 3 | The Dark Knight Rises                     | 2012 | Christopher Nolan | 164 | Color | Action|Thriller                                           | USA | A partir de 13 anos | 250000000 | 448130642 | 8.5 | 164000 | Tom Hardy    | Christian Bale   | Joseph Gordon-Levitt |\n| 4 | John Carter                               | 2012 | Andrew Stanton    | 132 | Color | Action|Adventure|Sci-Fi                                   | USA | A partir de 13 anos | 263700000 |  73058679 | 6.6 |  24000 | Daryl Sabara | Samantha Morton  | Polly Walker         |\n| 5 | Spider-Man 3                              | 2007 | Sam Raimi         | 156 | Color | Action|Adventure|Romance                                  | USA | A partir de 13 anos | 258000000 | 336530303 | 6.2 |      0 | J.K. Simmons | James Franco     | Kirsten Dunst        |\n| 6 | Tangled                                   | 2010 | Nathan Greno      | 100 | Color | Adventure|Animation|Comedy|Family|Fantasy|Musical|Romance | USA | Livre               | 260000000 | 200807262 | 7.8 |  29000 | Brad Garrett | Donna Murphy     | M.C. Gainey          |\n\n",
            "text/html": [
              "<table class=\"dataframe\">\n",
              "<caption>A data.frame: 6 × 15</caption>\n",
              "<thead>\n",
              "\t<tr><th></th><th scope=col>titulo</th><th scope=col>ano</th><th scope=col>diretor</th><th scope=col>duracao</th><th scope=col>cor</th><th scope=col>generos</th><th scope=col>pais</th><th scope=col>classificacao</th><th scope=col>orcamento</th><th scope=col>receita</th><th scope=col>nota_imdb</th><th scope=col>likes_facebook</th><th scope=col>ator_1</th><th scope=col>ator_2</th><th scope=col>ator_3</th></tr>\n",
              "\t<tr><th></th><th scope=col>&lt;chr&gt;</th><th scope=col>&lt;int&gt;</th><th scope=col>&lt;chr&gt;</th><th scope=col>&lt;int&gt;</th><th scope=col>&lt;chr&gt;</th><th scope=col>&lt;chr&gt;</th><th scope=col>&lt;chr&gt;</th><th scope=col>&lt;chr&gt;</th><th scope=col>&lt;int&gt;</th><th scope=col>&lt;int&gt;</th><th scope=col>&lt;dbl&gt;</th><th scope=col>&lt;int&gt;</th><th scope=col>&lt;chr&gt;</th><th scope=col>&lt;chr&gt;</th><th scope=col>&lt;chr&gt;</th></tr>\n",
              "</thead>\n",
              "<tbody>\n",
              "\t<tr><th scope=row>1</th><td>Avatar                                   </td><td>2009</td><td>James Cameron    </td><td>178</td><td>Color</td><td>Action|Adventure|Fantasy|Sci-Fi                          </td><td>USA</td><td>A partir de 13 anos</td><td>237000000</td><td>760505847</td><td>7.9</td><td> 33000</td><td>CCH Pounder </td><td>Joel David Moore</td><td>Wes Studi           </td></tr>\n",
              "\t<tr><th scope=row>2</th><td>Pirates of the Caribbean: At World's End </td><td>2007</td><td>Gore Verbinski   </td><td>169</td><td>Color</td><td>Action|Adventure|Fantasy                                 </td><td>USA</td><td>A partir de 13 anos</td><td>300000000</td><td>309404152</td><td>7.1</td><td>     0</td><td>Johnny Depp </td><td>Orlando Bloom   </td><td>Jack Davenport      </td></tr>\n",
              "\t<tr><th scope=row>3</th><td>The Dark Knight Rises                    </td><td>2012</td><td>Christopher Nolan</td><td>164</td><td>Color</td><td>Action|Thriller                                          </td><td>USA</td><td>A partir de 13 anos</td><td>250000000</td><td>448130642</td><td>8.5</td><td>164000</td><td>Tom Hardy   </td><td>Christian Bale  </td><td>Joseph Gordon-Levitt</td></tr>\n",
              "\t<tr><th scope=row>4</th><td>John Carter                              </td><td>2012</td><td>Andrew Stanton   </td><td>132</td><td>Color</td><td>Action|Adventure|Sci-Fi                                  </td><td>USA</td><td>A partir de 13 anos</td><td>263700000</td><td> 73058679</td><td>6.6</td><td> 24000</td><td>Daryl Sabara</td><td>Samantha Morton </td><td>Polly Walker        </td></tr>\n",
              "\t<tr><th scope=row>5</th><td>Spider-Man 3                             </td><td>2007</td><td>Sam Raimi        </td><td>156</td><td>Color</td><td>Action|Adventure|Romance                                 </td><td>USA</td><td>A partir de 13 anos</td><td>258000000</td><td>336530303</td><td>6.2</td><td>     0</td><td>J.K. Simmons</td><td>James Franco    </td><td>Kirsten Dunst       </td></tr>\n",
              "\t<tr><th scope=row>6</th><td>Tangled                                  </td><td>2010</td><td>Nathan Greno     </td><td>100</td><td>Color</td><td>Adventure|Animation|Comedy|Family|Fantasy|Musical|Romance</td><td>USA</td><td>Livre              </td><td>260000000</td><td>200807262</td><td>7.8</td><td> 29000</td><td>Brad Garrett</td><td>Donna Murphy    </td><td>M.C. Gainey         </td></tr>\n",
              "</tbody>\n",
              "</table>\n"
            ]
          },
          "metadata": {}
        }
      ]
    },
    {
      "cell_type": "code",
      "metadata": {
        "colab": {
          "base_uri": "https://localhost:8080/",
          "height": 688
        },
        "id": "SDRSmXkq-Wrb",
        "outputId": "8fe049fa-0302-4b0b-a761-e2c398610cf5"
      },
      "source": [
        "#Arquivos txt, o \\t é a tabulação\n",
        "imdb_txt <- read_delim('/content/sample_data/imdb.txt')\n",
        "head(imdb_txt)"
      ],
      "execution_count": 18,
      "outputs": [
        {
          "output_type": "stream",
          "name": "stderr",
          "text": [
            "\u001b[1m\u001b[1mRows: \u001b[1m\u001b[22m\u001b[34m\u001b[34m3807\u001b[34m\u001b[39m \u001b[1m\u001b[1mColumns: \u001b[1m\u001b[22m\u001b[34m\u001b[34m15\u001b[34m\u001b[39m\n",
            "\n",
            "\u001b[36m──\u001b[39m \u001b[1m\u001b[1mColumn specification\u001b[1m\u001b[22m \u001b[36m────────────────────────────────────────────────────────\u001b[39m\n",
            "\u001b[1mDelimiter:\u001b[22m \" \"\n",
            "\u001b[31mchr\u001b[39m (9): titulo, diretor, cor, generos, pais, classificacao, ator_1, ator_2,...\n",
            "\u001b[32mdbl\u001b[39m (6): ano, duracao, orcamento, receita, nota_imdb, likes_facebook\n",
            "\n",
            "\n",
            "\u001b[36mℹ\u001b[39m Use \u001b[30m\u001b[47m\u001b[30m\u001b[47m`spec()`\u001b[47m\u001b[30m\u001b[49m\u001b[39m to retrieve the full column specification for this data.\n",
            "\u001b[36mℹ\u001b[39m Specify the column types or set \u001b[30m\u001b[47m\u001b[30m\u001b[47m`show_col_types = FALSE`\u001b[47m\u001b[30m\u001b[49m\u001b[39m to quiet this message.\n",
            "\n"
          ]
        },
        {
          "output_type": "display_data",
          "data": {
            "text/plain": [
              "  titulo                                    ano  diretor           duracao\n",
              "1 Avatar                                    2009 James Cameron     178    \n",
              "2 Pirates of the Caribbean: At World's End  2007 Gore Verbinski    169    \n",
              "3 The Dark Knight Rises                     2012 Christopher Nolan 164    \n",
              "4 John Carter                               2012 Andrew Stanton    132    \n",
              "5 Spider-Man 3                              2007 Sam Raimi         156    \n",
              "6 Tangled                                   2010 Nathan Greno      100    \n",
              "  cor   generos                                                   pais\n",
              "1 Color Action|Adventure|Fantasy|Sci-Fi                           USA \n",
              "2 Color Action|Adventure|Fantasy                                  USA \n",
              "3 Color Action|Thriller                                           USA \n",
              "4 Color Action|Adventure|Sci-Fi                                   USA \n",
              "5 Color Action|Adventure|Romance                                  USA \n",
              "6 Color Adventure|Animation|Comedy|Family|Fantasy|Musical|Romance USA \n",
              "  classificacao       orcamento receita   nota_imdb likes_facebook ator_1      \n",
              "1 A partir de 13 anos 237000000 760505847 7.9        33000         CCH Pounder \n",
              "2 A partir de 13 anos 300000000 309404152 7.1            0         Johnny Depp \n",
              "3 A partir de 13 anos 250000000 448130642 8.5       164000         Tom Hardy   \n",
              "4 A partir de 13 anos 263700000  73058679 6.6        24000         Daryl Sabara\n",
              "5 A partir de 13 anos 258000000 336530303 6.2            0         J.K. Simmons\n",
              "6 Livre               260000000 200807262 7.8        29000         Brad Garrett\n",
              "  ator_2           ator_3              \n",
              "1 Joel David Moore Wes Studi           \n",
              "2 Orlando Bloom    Jack Davenport      \n",
              "3 Christian Bale   Joseph Gordon-Levitt\n",
              "4 Samantha Morton  Polly Walker        \n",
              "5 James Franco     Kirsten Dunst       \n",
              "6 Donna Murphy     M.C. Gainey         "
            ],
            "text/latex": "A tibble: 6 × 15\n\\begin{tabular}{lllllllllllllll}\n titulo & ano & diretor & duracao & cor & generos & pais & classificacao & orcamento & receita & nota\\_imdb & likes\\_facebook & ator\\_1 & ator\\_2 & ator\\_3\\\\\n <chr> & <dbl> & <chr> & <dbl> & <chr> & <chr> & <chr> & <chr> & <dbl> & <dbl> & <dbl> & <dbl> & <chr> & <chr> & <chr>\\\\\n\\hline\n\t Avatar                                    & 2009 & James Cameron     & 178 & Color & Action\\textbar{}Adventure\\textbar{}Fantasy\\textbar{}Sci-Fi                           & USA & A partir de 13 anos & 237000000 & 760505847 & 7.9 &  33000 & CCH Pounder  & Joel David Moore & Wes Studi           \\\\\n\t Pirates of the Caribbean: At World's End  & 2007 & Gore Verbinski    & 169 & Color & Action\\textbar{}Adventure\\textbar{}Fantasy                                  & USA & A partir de 13 anos & 300000000 & 309404152 & 7.1 &      0 & Johnny Depp  & Orlando Bloom    & Jack Davenport      \\\\\n\t The Dark Knight Rises                     & 2012 & Christopher Nolan & 164 & Color & Action\\textbar{}Thriller                                           & USA & A partir de 13 anos & 250000000 & 448130642 & 8.5 & 164000 & Tom Hardy    & Christian Bale   & Joseph Gordon-Levitt\\\\\n\t John Carter                               & 2012 & Andrew Stanton    & 132 & Color & Action\\textbar{}Adventure\\textbar{}Sci-Fi                                   & USA & A partir de 13 anos & 263700000 &  73058679 & 6.6 &  24000 & Daryl Sabara & Samantha Morton  & Polly Walker        \\\\\n\t Spider-Man 3                              & 2007 & Sam Raimi         & 156 & Color & Action\\textbar{}Adventure\\textbar{}Romance                                  & USA & A partir de 13 anos & 258000000 & 336530303 & 6.2 &      0 & J.K. Simmons & James Franco     & Kirsten Dunst       \\\\\n\t Tangled                                   & 2010 & Nathan Greno      & 100 & Color & Adventure\\textbar{}Animation\\textbar{}Comedy\\textbar{}Family\\textbar{}Fantasy\\textbar{}Musical\\textbar{}Romance & USA & Livre               & 260000000 & 200807262 & 7.8 &  29000 & Brad Garrett & Donna Murphy     & M.C. Gainey         \\\\\n\\end{tabular}\n",
            "text/markdown": "\nA tibble: 6 × 15\n\n| titulo &lt;chr&gt; | ano &lt;dbl&gt; | diretor &lt;chr&gt; | duracao &lt;dbl&gt; | cor &lt;chr&gt; | generos &lt;chr&gt; | pais &lt;chr&gt; | classificacao &lt;chr&gt; | orcamento &lt;dbl&gt; | receita &lt;dbl&gt; | nota_imdb &lt;dbl&gt; | likes_facebook &lt;dbl&gt; | ator_1 &lt;chr&gt; | ator_2 &lt;chr&gt; | ator_3 &lt;chr&gt; |\n|---|---|---|---|---|---|---|---|---|---|---|---|---|---|---|\n| Avatar                                    | 2009 | James Cameron     | 178 | Color | Action|Adventure|Fantasy|Sci-Fi                           | USA | A partir de 13 anos | 237000000 | 760505847 | 7.9 |  33000 | CCH Pounder  | Joel David Moore | Wes Studi            |\n| Pirates of the Caribbean: At World's End  | 2007 | Gore Verbinski    | 169 | Color | Action|Adventure|Fantasy                                  | USA | A partir de 13 anos | 300000000 | 309404152 | 7.1 |      0 | Johnny Depp  | Orlando Bloom    | Jack Davenport       |\n| The Dark Knight Rises                     | 2012 | Christopher Nolan | 164 | Color | Action|Thriller                                           | USA | A partir de 13 anos | 250000000 | 448130642 | 8.5 | 164000 | Tom Hardy    | Christian Bale   | Joseph Gordon-Levitt |\n| John Carter                               | 2012 | Andrew Stanton    | 132 | Color | Action|Adventure|Sci-Fi                                   | USA | A partir de 13 anos | 263700000 |  73058679 | 6.6 |  24000 | Daryl Sabara | Samantha Morton  | Polly Walker         |\n| Spider-Man 3                              | 2007 | Sam Raimi         | 156 | Color | Action|Adventure|Romance                                  | USA | A partir de 13 anos | 258000000 | 336530303 | 6.2 |      0 | J.K. Simmons | James Franco     | Kirsten Dunst        |\n| Tangled                                   | 2010 | Nathan Greno      | 100 | Color | Adventure|Animation|Comedy|Family|Fantasy|Musical|Romance | USA | Livre               | 260000000 | 200807262 | 7.8 |  29000 | Brad Garrett | Donna Murphy     | M.C. Gainey          |\n\n",
            "text/html": [
              "<table class=\"dataframe\">\n",
              "<caption>A tibble: 6 × 15</caption>\n",
              "<thead>\n",
              "\t<tr><th scope=col>titulo</th><th scope=col>ano</th><th scope=col>diretor</th><th scope=col>duracao</th><th scope=col>cor</th><th scope=col>generos</th><th scope=col>pais</th><th scope=col>classificacao</th><th scope=col>orcamento</th><th scope=col>receita</th><th scope=col>nota_imdb</th><th scope=col>likes_facebook</th><th scope=col>ator_1</th><th scope=col>ator_2</th><th scope=col>ator_3</th></tr>\n",
              "\t<tr><th scope=col>&lt;chr&gt;</th><th scope=col>&lt;dbl&gt;</th><th scope=col>&lt;chr&gt;</th><th scope=col>&lt;dbl&gt;</th><th scope=col>&lt;chr&gt;</th><th scope=col>&lt;chr&gt;</th><th scope=col>&lt;chr&gt;</th><th scope=col>&lt;chr&gt;</th><th scope=col>&lt;dbl&gt;</th><th scope=col>&lt;dbl&gt;</th><th scope=col>&lt;dbl&gt;</th><th scope=col>&lt;dbl&gt;</th><th scope=col>&lt;chr&gt;</th><th scope=col>&lt;chr&gt;</th><th scope=col>&lt;chr&gt;</th></tr>\n",
              "</thead>\n",
              "<tbody>\n",
              "\t<tr><td>Avatar                                   </td><td>2009</td><td>James Cameron    </td><td>178</td><td>Color</td><td>Action|Adventure|Fantasy|Sci-Fi                          </td><td>USA</td><td>A partir de 13 anos</td><td>237000000</td><td>760505847</td><td>7.9</td><td> 33000</td><td>CCH Pounder </td><td>Joel David Moore</td><td>Wes Studi           </td></tr>\n",
              "\t<tr><td>Pirates of the Caribbean: At World's End </td><td>2007</td><td>Gore Verbinski   </td><td>169</td><td>Color</td><td>Action|Adventure|Fantasy                                 </td><td>USA</td><td>A partir de 13 anos</td><td>300000000</td><td>309404152</td><td>7.1</td><td>     0</td><td>Johnny Depp </td><td>Orlando Bloom   </td><td>Jack Davenport      </td></tr>\n",
              "\t<tr><td>The Dark Knight Rises                    </td><td>2012</td><td>Christopher Nolan</td><td>164</td><td>Color</td><td>Action|Thriller                                          </td><td>USA</td><td>A partir de 13 anos</td><td>250000000</td><td>448130642</td><td>8.5</td><td>164000</td><td>Tom Hardy   </td><td>Christian Bale  </td><td>Joseph Gordon-Levitt</td></tr>\n",
              "\t<tr><td>John Carter                              </td><td>2012</td><td>Andrew Stanton   </td><td>132</td><td>Color</td><td>Action|Adventure|Sci-Fi                                  </td><td>USA</td><td>A partir de 13 anos</td><td>263700000</td><td> 73058679</td><td>6.6</td><td> 24000</td><td>Daryl Sabara</td><td>Samantha Morton </td><td>Polly Walker        </td></tr>\n",
              "\t<tr><td>Spider-Man 3                             </td><td>2007</td><td>Sam Raimi        </td><td>156</td><td>Color</td><td>Action|Adventure|Romance                                 </td><td>USA</td><td>A partir de 13 anos</td><td>258000000</td><td>336530303</td><td>6.2</td><td>     0</td><td>J.K. Simmons</td><td>James Franco    </td><td>Kirsten Dunst       </td></tr>\n",
              "\t<tr><td>Tangled                                  </td><td>2010</td><td>Nathan Greno     </td><td>100</td><td>Color</td><td>Adventure|Animation|Comedy|Family|Fantasy|Musical|Romance</td><td>USA</td><td>Livre              </td><td>260000000</td><td>200807262</td><td>7.8</td><td> 29000</td><td>Brad Garrett</td><td>Donna Murphy    </td><td>M.C. Gainey         </td></tr>\n",
              "</tbody>\n",
              "</table>\n"
            ]
          },
          "metadata": {}
        }
      ]
    },
    {
      "cell_type": "markdown",
      "metadata": {
        "id": "OZ-YcZdB_KwX"
      },
      "source": [
        "# Locale"
      ]
    },
    {
      "cell_type": "code",
      "metadata": {
        "colab": {
          "base_uri": "https://localhost:8080/",
          "height": 226
        },
        "id": "V-SsKqQs_BEF",
        "outputId": "1108caef-8691-428c-ace6-626aaf42510f"
      },
      "source": [
        "locale()"
      ],
      "execution_count": 19,
      "outputs": [
        {
          "output_type": "display_data",
          "data": {
            "text/plain": [
              "<locale>\n",
              "Numbers:  123,456.78\n",
              "Formats:  %AD / %AT\n",
              "Timezone: UTC\n",
              "Encoding: UTF-8\n",
              "<date_names>\n",
              "Days:   Sunday (Sun), Monday (Mon), Tuesday (Tue), Wednesday (Wed), Thursday\n",
              "        (Thu), Friday (Fri), Saturday (Sat)\n",
              "Months: January (Jan), February (Feb), March (Mar), April (Apr), May (May),\n",
              "        June (Jun), July (Jul), August (Aug), September (Sep), October\n",
              "        (Oct), November (Nov), December (Dec)\n",
              "AM/PM:  AM/PM"
            ]
          },
          "metadata": {}
        }
      ]
    },
    {
      "cell_type": "code",
      "metadata": {
        "colab": {
          "base_uri": "https://localhost:8080/",
          "height": 226
        },
        "id": "mPvSHCUn_bmi",
        "outputId": "6b92bc9f-dedd-4032-d4fa-64d745b1669c"
      },
      "source": [
        "locale(date_names = 'pt')"
      ],
      "execution_count": 20,
      "outputs": [
        {
          "output_type": "display_data",
          "data": {
            "text/plain": [
              "<locale>\n",
              "Numbers:  123,456.78\n",
              "Formats:  %AD / %AT\n",
              "Timezone: UTC\n",
              "Encoding: UTF-8\n",
              "<date_names>\n",
              "Days:   domingo (dom), segunda-feira (seg), terça-feira (ter), quarta-feira\n",
              "        (qua), quinta-feira (qui), sexta-feira (sex), sábado (sáb)\n",
              "Months: janeiro (jan), fevereiro (fev), março (mar), abril (abr), maio (mai),\n",
              "        junho (jun), julho (jul), agosto (ago), setembro (set), outubro\n",
              "        (out), novembro (nov), dezembro (dez)\n",
              "AM/PM:  AM/PM"
            ]
          },
          "metadata": {}
        }
      ]
    },
    {
      "cell_type": "code",
      "metadata": {
        "colab": {
          "base_uri": "https://localhost:8080/",
          "height": 226
        },
        "id": "N2RdfDeS_jIR",
        "outputId": "44dcc79d-88eb-4809-cee2-946a815c225b"
      },
      "source": [
        "locale(decimal_mark = ',')"
      ],
      "execution_count": 21,
      "outputs": [
        {
          "output_type": "display_data",
          "data": {
            "text/plain": [
              "<locale>\n",
              "Numbers:  123.456,78\n",
              "Formats:  %AD / %AT\n",
              "Timezone: UTC\n",
              "Encoding: UTF-8\n",
              "<date_names>\n",
              "Days:   Sunday (Sun), Monday (Mon), Tuesday (Tue), Wednesday (Wed), Thursday\n",
              "        (Thu), Friday (Fri), Saturday (Sat)\n",
              "Months: January (Jan), February (Feb), March (Mar), April (Apr), May (May),\n",
              "        June (Jun), July (Jul), August (Aug), September (Sep), October\n",
              "        (Oct), November (Nov), December (Dec)\n",
              "AM/PM:  AM/PM"
            ]
          },
          "metadata": {}
        }
      ]
    },
    {
      "cell_type": "code",
      "metadata": {
        "colab": {
          "base_uri": "https://localhost:8080/",
          "height": 34
        },
        "id": "eq1YaT5n_qiq",
        "outputId": "48dc661c-a7b9-41ae-e19d-267e4f7796d1"
      },
      "source": [
        "frase_com_acentos <- 'você comerá uma maçã amanhã à tarde'\n",
        "Encoding(frase_com_acentos)"
      ],
      "execution_count": 22,
      "outputs": [
        {
          "output_type": "display_data",
          "data": {
            "text/plain": [
              "[1] \"UTF-8\""
            ],
            "text/latex": "'UTF-8'",
            "text/markdown": "'UTF-8'",
            "text/html": [
              "'UTF-8'"
            ]
          },
          "metadata": {}
        }
      ]
    },
    {
      "cell_type": "code",
      "metadata": {
        "id": "B8hBqPeL__6b"
      },
      "source": [
        "Encoding(frase_com_acentos) <- 'latin1'"
      ],
      "execution_count": 24,
      "outputs": []
    },
    {
      "cell_type": "code",
      "metadata": {
        "colab": {
          "base_uri": "https://localhost:8080/",
          "height": 34
        },
        "id": "PB685eoqAICJ",
        "outputId": "76a5c553-3e6f-4634-be0d-34fac1b23d58"
      },
      "source": [
        "frase_com_acentos"
      ],
      "execution_count": 25,
      "outputs": [
        {
          "output_type": "display_data",
          "data": {
            "text/plain": [
              "[1] \"vocÃª comerÃ¡ uma maÃ§Ã£ amanhÃ£ Ã  tarde\""
            ],
            "text/latex": "'vocÃª comerÃ¡ uma maÃ§Ã£ amanhÃ£ Ã  tarde'",
            "text/markdown": "'vocÃª comerÃ¡ uma maÃ§Ã£ amanhÃ£ Ã  tarde'",
            "text/html": [
              "'vocÃª comerÃ¡ uma maÃ§Ã£ amanhÃ£ Ã  tarde'"
            ]
          },
          "metadata": {}
        }
      ]
    },
    {
      "cell_type": "code",
      "metadata": {
        "colab": {
          "base_uri": "https://localhost:8080/",
          "height": 688
        },
        "id": "WjurZd9AAP_q",
        "outputId": "cabf7085-53b3-4b08-e7c7-61255639bc05"
      },
      "source": [
        "outro_encoding <- read_csv('/content/sample_data/imdb.csv', locale = locale(encoding = 'latin1'))\n",
        "head(outro_encoding)"
      ],
      "execution_count": 27,
      "outputs": [
        {
          "output_type": "stream",
          "name": "stderr",
          "text": [
            "\u001b[1m\u001b[1mRows: \u001b[1m\u001b[22m\u001b[34m\u001b[34m3807\u001b[34m\u001b[39m \u001b[1m\u001b[1mColumns: \u001b[1m\u001b[22m\u001b[34m\u001b[34m15\u001b[34m\u001b[39m\n",
            "\n",
            "\u001b[36m──\u001b[39m \u001b[1m\u001b[1mColumn specification\u001b[1m\u001b[22m \u001b[36m────────────────────────────────────────────────────────\u001b[39m\n",
            "\u001b[1mDelimiter:\u001b[22m \",\"\n",
            "\u001b[31mchr\u001b[39m (9): titulo, diretor, cor, generos, pais, classificacao, ator_1, ator_2,...\n",
            "\u001b[32mdbl\u001b[39m (6): ano, duracao, orcamento, receita, nota_imdb, likes_facebook\n",
            "\n",
            "\n",
            "\u001b[36mℹ\u001b[39m Use \u001b[30m\u001b[47m\u001b[30m\u001b[47m`spec()`\u001b[47m\u001b[30m\u001b[49m\u001b[39m to retrieve the full column specification for this data.\n",
            "\u001b[36mℹ\u001b[39m Specify the column types or set \u001b[30m\u001b[47m\u001b[30m\u001b[47m`show_col_types = FALSE`\u001b[47m\u001b[30m\u001b[49m\u001b[39m to quiet this message.\n",
            "\n"
          ]
        },
        {
          "output_type": "display_data",
          "data": {
            "text/plain": [
              "  titulo                                     ano  diretor           duracao\n",
              "1 AvatarÂ                                    2009 James Cameron     178    \n",
              "2 Pirates of the Caribbean: At World's EndÂ  2007 Gore Verbinski    169    \n",
              "3 The Dark Knight RisesÂ                     2012 Christopher Nolan 164    \n",
              "4 John CarterÂ                               2012 Andrew Stanton    132    \n",
              "5 Spider-Man 3Â                              2007 Sam Raimi         156    \n",
              "6 TangledÂ                                   2010 Nathan Greno      100    \n",
              "  cor   generos                                                   pais\n",
              "1 Color Action|Adventure|Fantasy|Sci-Fi                           USA \n",
              "2 Color Action|Adventure|Fantasy                                  USA \n",
              "3 Color Action|Thriller                                           USA \n",
              "4 Color Action|Adventure|Sci-Fi                                   USA \n",
              "5 Color Action|Adventure|Romance                                  USA \n",
              "6 Color Adventure|Animation|Comedy|Family|Fantasy|Musical|Romance USA \n",
              "  classificacao       orcamento receita   nota_imdb likes_facebook ator_1      \n",
              "1 A partir de 13 anos 237000000 760505847 7.9        33000         CCH Pounder \n",
              "2 A partir de 13 anos 300000000 309404152 7.1            0         Johnny Depp \n",
              "3 A partir de 13 anos 250000000 448130642 8.5       164000         Tom Hardy   \n",
              "4 A partir de 13 anos 263700000  73058679 6.6        24000         Daryl Sabara\n",
              "5 A partir de 13 anos 258000000 336530303 6.2            0         J.K. Simmons\n",
              "6 Livre               260000000 200807262 7.8        29000         Brad Garrett\n",
              "  ator_2           ator_3              \n",
              "1 Joel David Moore Wes Studi           \n",
              "2 Orlando Bloom    Jack Davenport      \n",
              "3 Christian Bale   Joseph Gordon-Levitt\n",
              "4 Samantha Morton  Polly Walker        \n",
              "5 James Franco     Kirsten Dunst       \n",
              "6 Donna Murphy     M.C. Gainey         "
            ],
            "text/latex": "A tibble: 6 × 15\n\\begin{tabular}{lllllllllllllll}\n titulo & ano & diretor & duracao & cor & generos & pais & classificacao & orcamento & receita & nota\\_imdb & likes\\_facebook & ator\\_1 & ator\\_2 & ator\\_3\\\\\n <chr> & <dbl> & <chr> & <dbl> & <chr> & <chr> & <chr> & <chr> & <dbl> & <dbl> & <dbl> & <dbl> & <chr> & <chr> & <chr>\\\\\n\\hline\n\t AvatarÂ                                    & 2009 & James Cameron     & 178 & Color & Action\\textbar{}Adventure\\textbar{}Fantasy\\textbar{}Sci-Fi                           & USA & A partir de 13 anos & 237000000 & 760505847 & 7.9 &  33000 & CCH Pounder  & Joel David Moore & Wes Studi           \\\\\n\t Pirates of the Caribbean: At World's EndÂ  & 2007 & Gore Verbinski    & 169 & Color & Action\\textbar{}Adventure\\textbar{}Fantasy                                  & USA & A partir de 13 anos & 300000000 & 309404152 & 7.1 &      0 & Johnny Depp  & Orlando Bloom    & Jack Davenport      \\\\\n\t The Dark Knight RisesÂ                     & 2012 & Christopher Nolan & 164 & Color & Action\\textbar{}Thriller                                           & USA & A partir de 13 anos & 250000000 & 448130642 & 8.5 & 164000 & Tom Hardy    & Christian Bale   & Joseph Gordon-Levitt\\\\\n\t John CarterÂ                               & 2012 & Andrew Stanton    & 132 & Color & Action\\textbar{}Adventure\\textbar{}Sci-Fi                                   & USA & A partir de 13 anos & 263700000 &  73058679 & 6.6 &  24000 & Daryl Sabara & Samantha Morton  & Polly Walker        \\\\\n\t Spider-Man 3Â                              & 2007 & Sam Raimi         & 156 & Color & Action\\textbar{}Adventure\\textbar{}Romance                                  & USA & A partir de 13 anos & 258000000 & 336530303 & 6.2 &      0 & J.K. Simmons & James Franco     & Kirsten Dunst       \\\\\n\t TangledÂ                                   & 2010 & Nathan Greno      & 100 & Color & Adventure\\textbar{}Animation\\textbar{}Comedy\\textbar{}Family\\textbar{}Fantasy\\textbar{}Musical\\textbar{}Romance & USA & Livre               & 260000000 & 200807262 & 7.8 &  29000 & Brad Garrett & Donna Murphy     & M.C. Gainey         \\\\\n\\end{tabular}\n",
            "text/markdown": "\nA tibble: 6 × 15\n\n| titulo &lt;chr&gt; | ano &lt;dbl&gt; | diretor &lt;chr&gt; | duracao &lt;dbl&gt; | cor &lt;chr&gt; | generos &lt;chr&gt; | pais &lt;chr&gt; | classificacao &lt;chr&gt; | orcamento &lt;dbl&gt; | receita &lt;dbl&gt; | nota_imdb &lt;dbl&gt; | likes_facebook &lt;dbl&gt; | ator_1 &lt;chr&gt; | ator_2 &lt;chr&gt; | ator_3 &lt;chr&gt; |\n|---|---|---|---|---|---|---|---|---|---|---|---|---|---|---|\n| AvatarÂ                                    | 2009 | James Cameron     | 178 | Color | Action|Adventure|Fantasy|Sci-Fi                           | USA | A partir de 13 anos | 237000000 | 760505847 | 7.9 |  33000 | CCH Pounder  | Joel David Moore | Wes Studi            |\n| Pirates of the Caribbean: At World's EndÂ  | 2007 | Gore Verbinski    | 169 | Color | Action|Adventure|Fantasy                                  | USA | A partir de 13 anos | 300000000 | 309404152 | 7.1 |      0 | Johnny Depp  | Orlando Bloom    | Jack Davenport       |\n| The Dark Knight RisesÂ                     | 2012 | Christopher Nolan | 164 | Color | Action|Thriller                                           | USA | A partir de 13 anos | 250000000 | 448130642 | 8.5 | 164000 | Tom Hardy    | Christian Bale   | Joseph Gordon-Levitt |\n| John CarterÂ                               | 2012 | Andrew Stanton    | 132 | Color | Action|Adventure|Sci-Fi                                   | USA | A partir de 13 anos | 263700000 |  73058679 | 6.6 |  24000 | Daryl Sabara | Samantha Morton  | Polly Walker         |\n| Spider-Man 3Â                              | 2007 | Sam Raimi         | 156 | Color | Action|Adventure|Romance                                  | USA | A partir de 13 anos | 258000000 | 336530303 | 6.2 |      0 | J.K. Simmons | James Franco     | Kirsten Dunst        |\n| TangledÂ                                   | 2010 | Nathan Greno      | 100 | Color | Adventure|Animation|Comedy|Family|Fantasy|Musical|Romance | USA | Livre               | 260000000 | 200807262 | 7.8 |  29000 | Brad Garrett | Donna Murphy     | M.C. Gainey          |\n\n",
            "text/html": [
              "<table class=\"dataframe\">\n",
              "<caption>A tibble: 6 × 15</caption>\n",
              "<thead>\n",
              "\t<tr><th scope=col>titulo</th><th scope=col>ano</th><th scope=col>diretor</th><th scope=col>duracao</th><th scope=col>cor</th><th scope=col>generos</th><th scope=col>pais</th><th scope=col>classificacao</th><th scope=col>orcamento</th><th scope=col>receita</th><th scope=col>nota_imdb</th><th scope=col>likes_facebook</th><th scope=col>ator_1</th><th scope=col>ator_2</th><th scope=col>ator_3</th></tr>\n",
              "\t<tr><th scope=col>&lt;chr&gt;</th><th scope=col>&lt;dbl&gt;</th><th scope=col>&lt;chr&gt;</th><th scope=col>&lt;dbl&gt;</th><th scope=col>&lt;chr&gt;</th><th scope=col>&lt;chr&gt;</th><th scope=col>&lt;chr&gt;</th><th scope=col>&lt;chr&gt;</th><th scope=col>&lt;dbl&gt;</th><th scope=col>&lt;dbl&gt;</th><th scope=col>&lt;dbl&gt;</th><th scope=col>&lt;dbl&gt;</th><th scope=col>&lt;chr&gt;</th><th scope=col>&lt;chr&gt;</th><th scope=col>&lt;chr&gt;</th></tr>\n",
              "</thead>\n",
              "<tbody>\n",
              "\t<tr><td>AvatarÂ                                   </td><td>2009</td><td>James Cameron    </td><td>178</td><td>Color</td><td>Action|Adventure|Fantasy|Sci-Fi                          </td><td>USA</td><td>A partir de 13 anos</td><td>237000000</td><td>760505847</td><td>7.9</td><td> 33000</td><td>CCH Pounder </td><td>Joel David Moore</td><td>Wes Studi           </td></tr>\n",
              "\t<tr><td>Pirates of the Caribbean: At World's EndÂ </td><td>2007</td><td>Gore Verbinski   </td><td>169</td><td>Color</td><td>Action|Adventure|Fantasy                                 </td><td>USA</td><td>A partir de 13 anos</td><td>300000000</td><td>309404152</td><td>7.1</td><td>     0</td><td>Johnny Depp </td><td>Orlando Bloom   </td><td>Jack Davenport      </td></tr>\n",
              "\t<tr><td>The Dark Knight RisesÂ                    </td><td>2012</td><td>Christopher Nolan</td><td>164</td><td>Color</td><td>Action|Thriller                                          </td><td>USA</td><td>A partir de 13 anos</td><td>250000000</td><td>448130642</td><td>8.5</td><td>164000</td><td>Tom Hardy   </td><td>Christian Bale  </td><td>Joseph Gordon-Levitt</td></tr>\n",
              "\t<tr><td>John CarterÂ                              </td><td>2012</td><td>Andrew Stanton   </td><td>132</td><td>Color</td><td>Action|Adventure|Sci-Fi                                  </td><td>USA</td><td>A partir de 13 anos</td><td>263700000</td><td> 73058679</td><td>6.6</td><td> 24000</td><td>Daryl Sabara</td><td>Samantha Morton </td><td>Polly Walker        </td></tr>\n",
              "\t<tr><td>Spider-Man 3Â                             </td><td>2007</td><td>Sam Raimi        </td><td>156</td><td>Color</td><td>Action|Adventure|Romance                                 </td><td>USA</td><td>A partir de 13 anos</td><td>258000000</td><td>336530303</td><td>6.2</td><td>     0</td><td>J.K. Simmons</td><td>James Franco    </td><td>Kirsten Dunst       </td></tr>\n",
              "\t<tr><td>TangledÂ                                  </td><td>2010</td><td>Nathan Greno     </td><td>100</td><td>Color</td><td>Adventure|Animation|Comedy|Family|Fantasy|Musical|Romance</td><td>USA</td><td>Livre              </td><td>260000000</td><td>200807262</td><td>7.8</td><td> 29000</td><td>Brad Garrett</td><td>Donna Murphy    </td><td>M.C. Gainey         </td></tr>\n",
              "</tbody>\n",
              "</table>\n"
            ]
          },
          "metadata": {}
        }
      ]
    },
    {
      "cell_type": "markdown",
      "metadata": {
        "id": "mw7Zc6opA0o7"
      },
      "source": [
        "# Parseando valores"
      ]
    },
    {
      "cell_type": "code",
      "metadata": {
        "colab": {
          "base_uri": "https://localhost:8080/",
          "height": 34
        },
        "id": "m2PrW6NIAiyy",
        "outputId": "c73044eb-8ab5-4635-8458-8ff3c7a16a91"
      },
      "source": [
        "parse_number(c('5','5.0','5,0','R$5.00','5a'))"
      ],
      "execution_count": 28,
      "outputs": [
        {
          "output_type": "display_data",
          "data": {
            "text/plain": [
              "[1]  5  5 50  5  5"
            ],
            "text/latex": "\\begin{enumerate*}\n\\item 5\n\\item 5\n\\item 50\n\\item 5\n\\item 5\n\\end{enumerate*}\n",
            "text/markdown": "1. 5\n2. 5\n3. 50\n4. 5\n5. 5\n\n\n",
            "text/html": [
              "<style>\n",
              ".list-inline {list-style: none; margin:0; padding: 0}\n",
              ".list-inline>li {display: inline-block}\n",
              ".list-inline>li:not(:last-child)::after {content: \"\\00b7\"; padding: 0 .5ex}\n",
              "</style>\n",
              "<ol class=list-inline><li>5</li><li>5</li><li>50</li><li>5</li><li>5</li></ol>\n"
            ]
          },
          "metadata": {}
        }
      ]
    },
    {
      "cell_type": "code",
      "metadata": {
        "colab": {
          "base_uri": "https://localhost:8080/",
          "height": 34
        },
        "id": "smkFN9ItBMQe",
        "outputId": "7dce3caf-fd92-4561-f7f0-b2ffccfc03a3"
      },
      "source": [
        "parse_number('5,0', locale = locale(decimal_mark = ','))"
      ],
      "execution_count": 29,
      "outputs": [
        {
          "output_type": "display_data",
          "data": {
            "text/plain": [
              "[1] 5"
            ],
            "text/latex": "5",
            "text/markdown": "5",
            "text/html": [
              "5"
            ]
          },
          "metadata": {}
        }
      ]
    },
    {
      "cell_type": "code",
      "metadata": {
        "colab": {
          "base_uri": "https://localhost:8080/",
          "height": 34
        },
        "id": "caH9nlwTBc0a",
        "outputId": "988e2fd5-21e9-4278-824d-0c54732fb1cf"
      },
      "source": [
        "#Inglês\n",
        "parse_date(\n",
        "  '01/june/2010',\n",
        "  format = '%d/%B/%Y'\n",
        ")"
      ],
      "execution_count": 30,
      "outputs": [
        {
          "output_type": "display_data",
          "data": {
            "text/plain": [
              "[1] \"2010-06-01\""
            ],
            "text/latex": "2010-06-01",
            "text/markdown": "2010-06-01",
            "text/html": [
              "<time datetime=\"2010-06-01\">2010-06-01</time>"
            ]
          },
          "metadata": {}
        }
      ]
    },
    {
      "cell_type": "code",
      "metadata": {
        "colab": {
          "base_uri": "https://localhost:8080/",
          "height": 34
        },
        "id": "wWY8qsVrBvya",
        "outputId": "633cf00f-d174-4f03-fbc2-e7aa2fd598b5"
      },
      "source": [
        "#Português\n",
        "parse_date(\n",
        "  '01/junho/2021',\n",
        "  format = '%d/%B/%Y',\n",
        "  locale = locale(date_names = 'pt')\n",
        ")"
      ],
      "execution_count": 32,
      "outputs": [
        {
          "output_type": "display_data",
          "data": {
            "text/plain": [
              "[1] \"2021-06-01\""
            ],
            "text/latex": "2021-06-01",
            "text/markdown": "2021-06-01",
            "text/html": [
              "<time datetime=\"2021-06-01\">2021-06-01</time>"
            ]
          },
          "metadata": {}
        }
      ]
    },
    {
      "cell_type": "code",
      "metadata": {
        "colab": {
          "base_uri": "https://localhost:8080/",
          "height": 34
        },
        "id": "RzT59YvMCByy",
        "outputId": "28cc4cd3-6213-4e6e-cb45-625c6309f94f"
      },
      "source": [
        "#Pode especificar NAs\n",
        "parse_number(c('5', '5.0', '5,0', 'R$5.00', '5 a'), na = '5 a')"
      ],
      "execution_count": 33,
      "outputs": [
        {
          "output_type": "display_data",
          "data": {
            "text/plain": [
              "[1]  5  5 50  5 NA"
            ],
            "text/latex": "\\begin{enumerate*}\n\\item 5\n\\item 5\n\\item 50\n\\item 5\n\\item <NA>\n\\end{enumerate*}\n",
            "text/markdown": "1. 5\n2. 5\n3. 50\n4. 5\n5. &lt;NA&gt;\n\n\n",
            "text/html": [
              "<style>\n",
              ".list-inline {list-style: none; margin:0; padding: 0}\n",
              ".list-inline>li {display: inline-block}\n",
              ".list-inline>li:not(:last-child)::after {content: \"\\00b7\"; padding: 0 .5ex}\n",
              "</style>\n",
              "<ol class=list-inline><li>5</li><li>5</li><li>50</li><li>5</li><li>&lt;NA&gt;</li></ol>\n"
            ]
          },
          "metadata": {}
        }
      ]
    },
    {
      "cell_type": "markdown",
      "metadata": {
        "id": "Ahpp57U_CoAo"
      },
      "source": [
        "Outras funções úteis:\n",
        "* `readr::parse_integer()`, para parsear números inteiros\n",
        "* `readr::parse_character()`, para parsear strings\n",
        "* `readr::parse_date()`, `readr::parse_time()`, `readr::parse_datetime()` para parsear datas, horas e data/horas."
      ]
    },
    {
      "cell_type": "markdown",
      "metadata": {
        "id": "qrDejRt9DP-o"
      },
      "source": [
        "# Salvando arquivos de texto"
      ]
    },
    {
      "cell_type": "code",
      "metadata": {
        "id": "kswVJO0-ClBM"
      },
      "source": [
        "#arquivo .csv\n",
        "write_csv(x = mtcars, file='/content/sample_data/mtcars.csv')"
      ],
      "execution_count": 35,
      "outputs": []
    },
    {
      "cell_type": "code",
      "metadata": {
        "id": "esWrFaNqDmVp"
      },
      "source": [
        "#Base separada por tabulação\n",
        "write_delim(x = mtcars, file='/content/sample_data/mtcars.txt', delim='\\t')"
      ],
      "execution_count": 36,
      "outputs": []
    },
    {
      "cell_type": "markdown",
      "metadata": {
        "id": "HOlUVzkMD5hS"
      },
      "source": [
        "# Arquivos .rds"
      ]
    },
    {
      "cell_type": "code",
      "metadata": {
        "id": "c0rtTLUgD3QE"
      },
      "source": [
        "#Esses arquivos só podem ser lidos dentro do R\n",
        "write_rds(mtcars, file='mtcars.rds', compress='gz')"
      ],
      "execution_count": 37,
      "outputs": []
    },
    {
      "cell_type": "code",
      "metadata": {
        "colab": {
          "base_uri": "https://localhost:8080/",
          "height": 375
        },
        "id": "wvRXRV8gEO2q",
        "outputId": "0e214655-9f29-401b-847a-729b50fce5c2"
      },
      "source": [
        "imdb_rds <- read_rds(file='mtcars.rds')\n",
        "head(imdb_rds)"
      ],
      "execution_count": 39,
      "outputs": [
        {
          "output_type": "display_data",
          "data": {
            "text/plain": [
              "                  mpg  cyl disp hp  drat wt    qsec  vs am gear carb\n",
              "Mazda RX4         21.0 6   160  110 3.90 2.620 16.46 0  1  4    4   \n",
              "Mazda RX4 Wag     21.0 6   160  110 3.90 2.875 17.02 0  1  4    4   \n",
              "Datsun 710        22.8 4   108   93 3.85 2.320 18.61 1  1  4    1   \n",
              "Hornet 4 Drive    21.4 6   258  110 3.08 3.215 19.44 1  0  3    1   \n",
              "Hornet Sportabout 18.7 8   360  175 3.15 3.440 17.02 0  0  3    2   \n",
              "Valiant           18.1 6   225  105 2.76 3.460 20.22 1  0  3    1   "
            ],
            "text/latex": "A data.frame: 6 × 11\n\\begin{tabular}{r|lllllllllll}\n  & mpg & cyl & disp & hp & drat & wt & qsec & vs & am & gear & carb\\\\\n  & <dbl> & <dbl> & <dbl> & <dbl> & <dbl> & <dbl> & <dbl> & <dbl> & <dbl> & <dbl> & <dbl>\\\\\n\\hline\n\tMazda RX4 & 21.0 & 6 & 160 & 110 & 3.90 & 2.620 & 16.46 & 0 & 1 & 4 & 4\\\\\n\tMazda RX4 Wag & 21.0 & 6 & 160 & 110 & 3.90 & 2.875 & 17.02 & 0 & 1 & 4 & 4\\\\\n\tDatsun 710 & 22.8 & 4 & 108 &  93 & 3.85 & 2.320 & 18.61 & 1 & 1 & 4 & 1\\\\\n\tHornet 4 Drive & 21.4 & 6 & 258 & 110 & 3.08 & 3.215 & 19.44 & 1 & 0 & 3 & 1\\\\\n\tHornet Sportabout & 18.7 & 8 & 360 & 175 & 3.15 & 3.440 & 17.02 & 0 & 0 & 3 & 2\\\\\n\tValiant & 18.1 & 6 & 225 & 105 & 2.76 & 3.460 & 20.22 & 1 & 0 & 3 & 1\\\\\n\\end{tabular}\n",
            "text/markdown": "\nA data.frame: 6 × 11\n\n| <!--/--> | mpg &lt;dbl&gt; | cyl &lt;dbl&gt; | disp &lt;dbl&gt; | hp &lt;dbl&gt; | drat &lt;dbl&gt; | wt &lt;dbl&gt; | qsec &lt;dbl&gt; | vs &lt;dbl&gt; | am &lt;dbl&gt; | gear &lt;dbl&gt; | carb &lt;dbl&gt; |\n|---|---|---|---|---|---|---|---|---|---|---|---|\n| Mazda RX4 | 21.0 | 6 | 160 | 110 | 3.90 | 2.620 | 16.46 | 0 | 1 | 4 | 4 |\n| Mazda RX4 Wag | 21.0 | 6 | 160 | 110 | 3.90 | 2.875 | 17.02 | 0 | 1 | 4 | 4 |\n| Datsun 710 | 22.8 | 4 | 108 |  93 | 3.85 | 2.320 | 18.61 | 1 | 1 | 4 | 1 |\n| Hornet 4 Drive | 21.4 | 6 | 258 | 110 | 3.08 | 3.215 | 19.44 | 1 | 0 | 3 | 1 |\n| Hornet Sportabout | 18.7 | 8 | 360 | 175 | 3.15 | 3.440 | 17.02 | 0 | 0 | 3 | 2 |\n| Valiant | 18.1 | 6 | 225 | 105 | 2.76 | 3.460 | 20.22 | 1 | 0 | 3 | 1 |\n\n",
            "text/html": [
              "<table class=\"dataframe\">\n",
              "<caption>A data.frame: 6 × 11</caption>\n",
              "<thead>\n",
              "\t<tr><th></th><th scope=col>mpg</th><th scope=col>cyl</th><th scope=col>disp</th><th scope=col>hp</th><th scope=col>drat</th><th scope=col>wt</th><th scope=col>qsec</th><th scope=col>vs</th><th scope=col>am</th><th scope=col>gear</th><th scope=col>carb</th></tr>\n",
              "\t<tr><th></th><th scope=col>&lt;dbl&gt;</th><th scope=col>&lt;dbl&gt;</th><th scope=col>&lt;dbl&gt;</th><th scope=col>&lt;dbl&gt;</th><th scope=col>&lt;dbl&gt;</th><th scope=col>&lt;dbl&gt;</th><th scope=col>&lt;dbl&gt;</th><th scope=col>&lt;dbl&gt;</th><th scope=col>&lt;dbl&gt;</th><th scope=col>&lt;dbl&gt;</th><th scope=col>&lt;dbl&gt;</th></tr>\n",
              "</thead>\n",
              "<tbody>\n",
              "\t<tr><th scope=row>Mazda RX4</th><td>21.0</td><td>6</td><td>160</td><td>110</td><td>3.90</td><td>2.620</td><td>16.46</td><td>0</td><td>1</td><td>4</td><td>4</td></tr>\n",
              "\t<tr><th scope=row>Mazda RX4 Wag</th><td>21.0</td><td>6</td><td>160</td><td>110</td><td>3.90</td><td>2.875</td><td>17.02</td><td>0</td><td>1</td><td>4</td><td>4</td></tr>\n",
              "\t<tr><th scope=row>Datsun 710</th><td>22.8</td><td>4</td><td>108</td><td> 93</td><td>3.85</td><td>2.320</td><td>18.61</td><td>1</td><td>1</td><td>4</td><td>1</td></tr>\n",
              "\t<tr><th scope=row>Hornet 4 Drive</th><td>21.4</td><td>6</td><td>258</td><td>110</td><td>3.08</td><td>3.215</td><td>19.44</td><td>1</td><td>0</td><td>3</td><td>1</td></tr>\n",
              "\t<tr><th scope=row>Hornet Sportabout</th><td>18.7</td><td>8</td><td>360</td><td>175</td><td>3.15</td><td>3.440</td><td>17.02</td><td>0</td><td>0</td><td>3</td><td>2</td></tr>\n",
              "\t<tr><th scope=row>Valiant</th><td>18.1</td><td>6</td><td>225</td><td>105</td><td>2.76</td><td>3.460</td><td>20.22</td><td>1</td><td>0</td><td>3</td><td>1</td></tr>\n",
              "</tbody>\n",
              "</table>\n"
            ]
          },
          "metadata": {}
        }
      ]
    },
    {
      "cell_type": "markdown",
      "metadata": {
        "id": "WiEBOhkHEjWc"
      },
      "source": [
        "# Exercicios"
      ]
    },
    {
      "cell_type": "markdown",
      "metadata": {
        "id": "b_rPJxmjEsmU"
      },
      "source": [
        "1. Qual a diferença entre as funções `read_csv()` e `read_csv2()`? \n",
        "\n",
        "A primeira lê arquivos separados por vígula e a segunda separados por ponto e vírgula"
      ]
    },
    {
      "cell_type": "markdown",
      "metadata": {
        "id": "u7G8eg2sE7_h"
      },
      "source": [
        "2. Leia o arquivo imdb.csv utilizando a função read_delim()."
      ]
    },
    {
      "cell_type": "code",
      "metadata": {
        "colab": {
          "base_uri": "https://localhost:8080/",
          "height": 688
        },
        "id": "tLfdyDuxEq_Q",
        "outputId": "41f8df6e-80ca-435c-a868-5d78991fd6df"
      },
      "source": [
        "leia <- read_delim('/content/sample_data/imdb.csv', delim = ',')\n",
        "head(leia)"
      ],
      "execution_count": 44,
      "outputs": [
        {
          "output_type": "stream",
          "name": "stderr",
          "text": [
            "\u001b[1m\u001b[1mRows: \u001b[1m\u001b[22m\u001b[34m\u001b[34m3807\u001b[34m\u001b[39m \u001b[1m\u001b[1mColumns: \u001b[1m\u001b[22m\u001b[34m\u001b[34m15\u001b[34m\u001b[39m\n",
            "\n",
            "\u001b[36m──\u001b[39m \u001b[1m\u001b[1mColumn specification\u001b[1m\u001b[22m \u001b[36m────────────────────────────────────────────────────────\u001b[39m\n",
            "\u001b[1mDelimiter:\u001b[22m \",\"\n",
            "\u001b[31mchr\u001b[39m (9): titulo, diretor, cor, generos, pais, classificacao, ator_1, ator_2,...\n",
            "\u001b[32mdbl\u001b[39m (6): ano, duracao, orcamento, receita, nota_imdb, likes_facebook\n",
            "\n",
            "\n",
            "\u001b[36mℹ\u001b[39m Use \u001b[30m\u001b[47m\u001b[30m\u001b[47m`spec()`\u001b[47m\u001b[30m\u001b[49m\u001b[39m to retrieve the full column specification for this data.\n",
            "\u001b[36mℹ\u001b[39m Specify the column types or set \u001b[30m\u001b[47m\u001b[30m\u001b[47m`show_col_types = FALSE`\u001b[47m\u001b[30m\u001b[49m\u001b[39m to quiet this message.\n",
            "\n"
          ]
        },
        {
          "output_type": "display_data",
          "data": {
            "text/plain": [
              "  titulo                                    ano  diretor           duracao\n",
              "1 Avatar                                    2009 James Cameron     178    \n",
              "2 Pirates of the Caribbean: At World's End  2007 Gore Verbinski    169    \n",
              "3 The Dark Knight Rises                     2012 Christopher Nolan 164    \n",
              "4 John Carter                               2012 Andrew Stanton    132    \n",
              "5 Spider-Man 3                              2007 Sam Raimi         156    \n",
              "6 Tangled                                   2010 Nathan Greno      100    \n",
              "  cor   generos                                                   pais\n",
              "1 Color Action|Adventure|Fantasy|Sci-Fi                           USA \n",
              "2 Color Action|Adventure|Fantasy                                  USA \n",
              "3 Color Action|Thriller                                           USA \n",
              "4 Color Action|Adventure|Sci-Fi                                   USA \n",
              "5 Color Action|Adventure|Romance                                  USA \n",
              "6 Color Adventure|Animation|Comedy|Family|Fantasy|Musical|Romance USA \n",
              "  classificacao       orcamento receita   nota_imdb likes_facebook ator_1      \n",
              "1 A partir de 13 anos 237000000 760505847 7.9        33000         CCH Pounder \n",
              "2 A partir de 13 anos 300000000 309404152 7.1            0         Johnny Depp \n",
              "3 A partir de 13 anos 250000000 448130642 8.5       164000         Tom Hardy   \n",
              "4 A partir de 13 anos 263700000  73058679 6.6        24000         Daryl Sabara\n",
              "5 A partir de 13 anos 258000000 336530303 6.2            0         J.K. Simmons\n",
              "6 Livre               260000000 200807262 7.8        29000         Brad Garrett\n",
              "  ator_2           ator_3              \n",
              "1 Joel David Moore Wes Studi           \n",
              "2 Orlando Bloom    Jack Davenport      \n",
              "3 Christian Bale   Joseph Gordon-Levitt\n",
              "4 Samantha Morton  Polly Walker        \n",
              "5 James Franco     Kirsten Dunst       \n",
              "6 Donna Murphy     M.C. Gainey         "
            ],
            "text/latex": "A tibble: 6 × 15\n\\begin{tabular}{lllllllllllllll}\n titulo & ano & diretor & duracao & cor & generos & pais & classificacao & orcamento & receita & nota\\_imdb & likes\\_facebook & ator\\_1 & ator\\_2 & ator\\_3\\\\\n <chr> & <dbl> & <chr> & <dbl> & <chr> & <chr> & <chr> & <chr> & <dbl> & <dbl> & <dbl> & <dbl> & <chr> & <chr> & <chr>\\\\\n\\hline\n\t Avatar                                    & 2009 & James Cameron     & 178 & Color & Action\\textbar{}Adventure\\textbar{}Fantasy\\textbar{}Sci-Fi                           & USA & A partir de 13 anos & 237000000 & 760505847 & 7.9 &  33000 & CCH Pounder  & Joel David Moore & Wes Studi           \\\\\n\t Pirates of the Caribbean: At World's End  & 2007 & Gore Verbinski    & 169 & Color & Action\\textbar{}Adventure\\textbar{}Fantasy                                  & USA & A partir de 13 anos & 300000000 & 309404152 & 7.1 &      0 & Johnny Depp  & Orlando Bloom    & Jack Davenport      \\\\\n\t The Dark Knight Rises                     & 2012 & Christopher Nolan & 164 & Color & Action\\textbar{}Thriller                                           & USA & A partir de 13 anos & 250000000 & 448130642 & 8.5 & 164000 & Tom Hardy    & Christian Bale   & Joseph Gordon-Levitt\\\\\n\t John Carter                               & 2012 & Andrew Stanton    & 132 & Color & Action\\textbar{}Adventure\\textbar{}Sci-Fi                                   & USA & A partir de 13 anos & 263700000 &  73058679 & 6.6 &  24000 & Daryl Sabara & Samantha Morton  & Polly Walker        \\\\\n\t Spider-Man 3                              & 2007 & Sam Raimi         & 156 & Color & Action\\textbar{}Adventure\\textbar{}Romance                                  & USA & A partir de 13 anos & 258000000 & 336530303 & 6.2 &      0 & J.K. Simmons & James Franco     & Kirsten Dunst       \\\\\n\t Tangled                                   & 2010 & Nathan Greno      & 100 & Color & Adventure\\textbar{}Animation\\textbar{}Comedy\\textbar{}Family\\textbar{}Fantasy\\textbar{}Musical\\textbar{}Romance & USA & Livre               & 260000000 & 200807262 & 7.8 &  29000 & Brad Garrett & Donna Murphy     & M.C. Gainey         \\\\\n\\end{tabular}\n",
            "text/markdown": "\nA tibble: 6 × 15\n\n| titulo &lt;chr&gt; | ano &lt;dbl&gt; | diretor &lt;chr&gt; | duracao &lt;dbl&gt; | cor &lt;chr&gt; | generos &lt;chr&gt; | pais &lt;chr&gt; | classificacao &lt;chr&gt; | orcamento &lt;dbl&gt; | receita &lt;dbl&gt; | nota_imdb &lt;dbl&gt; | likes_facebook &lt;dbl&gt; | ator_1 &lt;chr&gt; | ator_2 &lt;chr&gt; | ator_3 &lt;chr&gt; |\n|---|---|---|---|---|---|---|---|---|---|---|---|---|---|---|\n| Avatar                                    | 2009 | James Cameron     | 178 | Color | Action|Adventure|Fantasy|Sci-Fi                           | USA | A partir de 13 anos | 237000000 | 760505847 | 7.9 |  33000 | CCH Pounder  | Joel David Moore | Wes Studi            |\n| Pirates of the Caribbean: At World's End  | 2007 | Gore Verbinski    | 169 | Color | Action|Adventure|Fantasy                                  | USA | A partir de 13 anos | 300000000 | 309404152 | 7.1 |      0 | Johnny Depp  | Orlando Bloom    | Jack Davenport       |\n| The Dark Knight Rises                     | 2012 | Christopher Nolan | 164 | Color | Action|Thriller                                           | USA | A partir de 13 anos | 250000000 | 448130642 | 8.5 | 164000 | Tom Hardy    | Christian Bale   | Joseph Gordon-Levitt |\n| John Carter                               | 2012 | Andrew Stanton    | 132 | Color | Action|Adventure|Sci-Fi                                   | USA | A partir de 13 anos | 263700000 |  73058679 | 6.6 |  24000 | Daryl Sabara | Samantha Morton  | Polly Walker         |\n| Spider-Man 3                              | 2007 | Sam Raimi         | 156 | Color | Action|Adventure|Romance                                  | USA | A partir de 13 anos | 258000000 | 336530303 | 6.2 |      0 | J.K. Simmons | James Franco     | Kirsten Dunst        |\n| Tangled                                   | 2010 | Nathan Greno      | 100 | Color | Adventure|Animation|Comedy|Family|Fantasy|Musical|Romance | USA | Livre               | 260000000 | 200807262 | 7.8 |  29000 | Brad Garrett | Donna Murphy     | M.C. Gainey          |\n\n",
            "text/html": [
              "<table class=\"dataframe\">\n",
              "<caption>A tibble: 6 × 15</caption>\n",
              "<thead>\n",
              "\t<tr><th scope=col>titulo</th><th scope=col>ano</th><th scope=col>diretor</th><th scope=col>duracao</th><th scope=col>cor</th><th scope=col>generos</th><th scope=col>pais</th><th scope=col>classificacao</th><th scope=col>orcamento</th><th scope=col>receita</th><th scope=col>nota_imdb</th><th scope=col>likes_facebook</th><th scope=col>ator_1</th><th scope=col>ator_2</th><th scope=col>ator_3</th></tr>\n",
              "\t<tr><th scope=col>&lt;chr&gt;</th><th scope=col>&lt;dbl&gt;</th><th scope=col>&lt;chr&gt;</th><th scope=col>&lt;dbl&gt;</th><th scope=col>&lt;chr&gt;</th><th scope=col>&lt;chr&gt;</th><th scope=col>&lt;chr&gt;</th><th scope=col>&lt;chr&gt;</th><th scope=col>&lt;dbl&gt;</th><th scope=col>&lt;dbl&gt;</th><th scope=col>&lt;dbl&gt;</th><th scope=col>&lt;dbl&gt;</th><th scope=col>&lt;chr&gt;</th><th scope=col>&lt;chr&gt;</th><th scope=col>&lt;chr&gt;</th></tr>\n",
              "</thead>\n",
              "<tbody>\n",
              "\t<tr><td>Avatar                                   </td><td>2009</td><td>James Cameron    </td><td>178</td><td>Color</td><td>Action|Adventure|Fantasy|Sci-Fi                          </td><td>USA</td><td>A partir de 13 anos</td><td>237000000</td><td>760505847</td><td>7.9</td><td> 33000</td><td>CCH Pounder </td><td>Joel David Moore</td><td>Wes Studi           </td></tr>\n",
              "\t<tr><td>Pirates of the Caribbean: At World's End </td><td>2007</td><td>Gore Verbinski   </td><td>169</td><td>Color</td><td>Action|Adventure|Fantasy                                 </td><td>USA</td><td>A partir de 13 anos</td><td>300000000</td><td>309404152</td><td>7.1</td><td>     0</td><td>Johnny Depp </td><td>Orlando Bloom   </td><td>Jack Davenport      </td></tr>\n",
              "\t<tr><td>The Dark Knight Rises                    </td><td>2012</td><td>Christopher Nolan</td><td>164</td><td>Color</td><td>Action|Thriller                                          </td><td>USA</td><td>A partir de 13 anos</td><td>250000000</td><td>448130642</td><td>8.5</td><td>164000</td><td>Tom Hardy   </td><td>Christian Bale  </td><td>Joseph Gordon-Levitt</td></tr>\n",
              "\t<tr><td>John Carter                              </td><td>2012</td><td>Andrew Stanton   </td><td>132</td><td>Color</td><td>Action|Adventure|Sci-Fi                                  </td><td>USA</td><td>A partir de 13 anos</td><td>263700000</td><td> 73058679</td><td>6.6</td><td> 24000</td><td>Daryl Sabara</td><td>Samantha Morton </td><td>Polly Walker        </td></tr>\n",
              "\t<tr><td>Spider-Man 3                             </td><td>2007</td><td>Sam Raimi        </td><td>156</td><td>Color</td><td>Action|Adventure|Romance                                 </td><td>USA</td><td>A partir de 13 anos</td><td>258000000</td><td>336530303</td><td>6.2</td><td>     0</td><td>J.K. Simmons</td><td>James Franco    </td><td>Kirsten Dunst       </td></tr>\n",
              "\t<tr><td>Tangled                                  </td><td>2010</td><td>Nathan Greno     </td><td>100</td><td>Color</td><td>Adventure|Animation|Comedy|Family|Fantasy|Musical|Romance</td><td>USA</td><td>Livre              </td><td>260000000</td><td>200807262</td><td>7.8</td><td> 29000</td><td>Brad Garrett</td><td>Donna Murphy    </td><td>M.C. Gainey         </td></tr>\n",
              "</tbody>\n",
              "</table>\n"
            ]
          },
          "metadata": {}
        }
      ]
    },
    {
      "cell_type": "markdown",
      "metadata": {
        "id": "59uv7tw1FPeg"
      },
      "source": [
        "3. Escreva a base `mtcars` em um arquivo `mtcars.csv` que não contenha o nome das colunas."
      ]
    },
    {
      "cell_type": "code",
      "metadata": {
        "id": "PuwyqumHEbRL"
      },
      "source": [
        "write_csv(mtcars,'sc_mtcars.csv', col_names=FALSE)"
      ],
      "execution_count": 46,
      "outputs": []
    },
    {
      "cell_type": "markdown",
      "metadata": {
        "id": "QnSOJY4iF-85"
      },
      "source": [
        "4. Use a função `write_rds()` para salvar em arquivos:\n",
        "\n",
        "a) um número"
      ]
    },
    {
      "cell_type": "code",
      "metadata": {
        "id": "sh3jXyKIFqW0"
      },
      "source": [
        "numero <- 5\n",
        "\n",
        "write_rds(numero,'numero.rds')"
      ],
      "execution_count": 47,
      "outputs": []
    },
    {
      "cell_type": "markdown",
      "metadata": {
        "id": "yylacixYG24I"
      },
      "source": [
        "b) um vetor de strings"
      ]
    },
    {
      "cell_type": "code",
      "metadata": {
        "id": "8PWEOy84G2Gj"
      },
      "source": [
        "estados <- c('PE', 'CE', 'PB','RN')\n",
        "write_rds(estados, 'estados.rds')"
      ],
      "execution_count": 50,
      "outputs": []
    },
    {
      "cell_type": "markdown",
      "metadata": {
        "id": "h3sUCgbOHMqY"
      },
      "source": [
        "Uma lista com valores numéricos, textuais e lógicos"
      ]
    },
    {
      "cell_type": "code",
      "metadata": {
        "id": "cUSVpAVcHHmg"
      },
      "source": [
        "lista <- list(numero = 1, texto = c('M', 'F', 'F'), logico = FALSE)\n",
        "write_rds(lista,'lista.rds')"
      ],
      "execution_count": 51,
      "outputs": []
    },
    {
      "cell_type": "markdown",
      "metadata": {
        "id": "aDQzOfx8HiVk"
      },
      "source": [
        "d) As 3 primeiras colunas da base `mtcars`\n"
      ]
    },
    {
      "cell_type": "code",
      "metadata": {
        "id": "Iuxg7TDCHgSc"
      },
      "source": [
        "write_rds(mtcars[,1:3], 'mtcars_3_colunas.rds')"
      ],
      "execution_count": 52,
      "outputs": []
    },
    {
      "cell_type": "markdown",
      "metadata": {
        "id": "dfxbOe5THyV1"
      },
      "source": [
        "5. Utilize a função `read_rds()` para importar de volta para o R os arquivos criados no exercício 4."
      ]
    },
    {
      "cell_type": "code",
      "metadata": {
        "colab": {
          "base_uri": "https://localhost:8080/",
          "height": 34
        },
        "id": "8Q1iR8oQHwz0",
        "outputId": "8e5fd848-04f4-4900-dfcb-d2511dbdb93c"
      },
      "source": [
        "read_rds('numero.rds')"
      ],
      "execution_count": 53,
      "outputs": [
        {
          "output_type": "display_data",
          "data": {
            "text/plain": [
              "[1] 5"
            ],
            "text/latex": "5",
            "text/markdown": "5",
            "text/html": [
              "5"
            ]
          },
          "metadata": {}
        }
      ]
    },
    {
      "cell_type": "code",
      "metadata": {
        "colab": {
          "base_uri": "https://localhost:8080/",
          "height": 34
        },
        "id": "ZEHd9KfAH69z",
        "outputId": "66ebbcaa-abaf-4a73-87df-b596c6ab985e"
      },
      "source": [
        "read_rds('estados.rds')"
      ],
      "execution_count": 55,
      "outputs": [
        {
          "output_type": "display_data",
          "data": {
            "text/plain": [
              "[1] \"PE\" \"CE\" \"PB\" \"RN\""
            ],
            "text/latex": "\\begin{enumerate*}\n\\item 'PE'\n\\item 'CE'\n\\item 'PB'\n\\item 'RN'\n\\end{enumerate*}\n",
            "text/markdown": "1. 'PE'\n2. 'CE'\n3. 'PB'\n4. 'RN'\n\n\n",
            "text/html": [
              "<style>\n",
              ".list-inline {list-style: none; margin:0; padding: 0}\n",
              ".list-inline>li {display: inline-block}\n",
              ".list-inline>li:not(:last-child)::after {content: \"\\00b7\"; padding: 0 .5ex}\n",
              "</style>\n",
              "<ol class=list-inline><li>'PE'</li><li>'CE'</li><li>'PB'</li><li>'RN'</li></ol>\n"
            ]
          },
          "metadata": {}
        }
      ]
    },
    {
      "cell_type": "code",
      "metadata": {
        "colab": {
          "base_uri": "https://localhost:8080/",
          "height": 149
        },
        "id": "O2ncibiXH9Zl",
        "outputId": "ec2ee8a1-d3ed-494b-aa83-17d4c74b94ab"
      },
      "source": [
        "read_rds('lista.rds')"
      ],
      "execution_count": 56,
      "outputs": [
        {
          "output_type": "display_data",
          "data": {
            "text/plain": [
              "$numero\n",
              "[1] 1\n",
              "\n",
              "$texto\n",
              "[1] \"M\" \"F\" \"F\"\n",
              "\n",
              "$logico\n",
              "[1] FALSE\n"
            ],
            "text/latex": "\\begin{description}\n\\item[\\$numero] 1\n\\item[\\$texto] \\begin{enumerate*}\n\\item 'M'\n\\item 'F'\n\\item 'F'\n\\end{enumerate*}\n\n\\item[\\$logico] FALSE\n\\end{description}\n",
            "text/markdown": "$numero\n:   1\n$texto\n:   1. 'M'\n2. 'F'\n3. 'F'\n\n\n\n$logico\n:   FALSE\n\n\n",
            "text/html": [
              "<dl>\n",
              "\t<dt>$numero</dt>\n",
              "\t\t<dd>1</dd>\n",
              "\t<dt>$texto</dt>\n",
              "\t\t<dd><style>\n",
              ".list-inline {list-style: none; margin:0; padding: 0}\n",
              ".list-inline>li {display: inline-block}\n",
              ".list-inline>li:not(:last-child)::after {content: \"\\00b7\"; padding: 0 .5ex}\n",
              "</style>\n",
              "<ol class=list-inline><li>'M'</li><li>'F'</li><li>'F'</li></ol>\n",
              "</dd>\n",
              "\t<dt>$logico</dt>\n",
              "\t\t<dd>FALSE</dd>\n",
              "</dl>\n"
            ]
          },
          "metadata": {}
        }
      ]
    },
    {
      "cell_type": "code",
      "metadata": {
        "colab": {
          "base_uri": "https://localhost:8080/",
          "height": 1000
        },
        "id": "Tp_gSxXTIEm1",
        "outputId": "0c316782-1ea2-4d69-9823-1612735d0499"
      },
      "source": [
        "read_rds('mtcars_3_colunas.rds')"
      ],
      "execution_count": 59,
      "outputs": [
        {
          "output_type": "display_data",
          "data": {
            "text/plain": [
              "                    mpg  cyl disp \n",
              "Mazda RX4           21.0 6   160.0\n",
              "Mazda RX4 Wag       21.0 6   160.0\n",
              "Datsun 710          22.8 4   108.0\n",
              "Hornet 4 Drive      21.4 6   258.0\n",
              "Hornet Sportabout   18.7 8   360.0\n",
              "Valiant             18.1 6   225.0\n",
              "Duster 360          14.3 8   360.0\n",
              "Merc 240D           24.4 4   146.7\n",
              "Merc 230            22.8 4   140.8\n",
              "Merc 280            19.2 6   167.6\n",
              "Merc 280C           17.8 6   167.6\n",
              "Merc 450SE          16.4 8   275.8\n",
              "Merc 450SL          17.3 8   275.8\n",
              "Merc 450SLC         15.2 8   275.8\n",
              "Cadillac Fleetwood  10.4 8   472.0\n",
              "Lincoln Continental 10.4 8   460.0\n",
              "Chrysler Imperial   14.7 8   440.0\n",
              "Fiat 128            32.4 4    78.7\n",
              "Honda Civic         30.4 4    75.7\n",
              "Toyota Corolla      33.9 4    71.1\n",
              "Toyota Corona       21.5 4   120.1\n",
              "Dodge Challenger    15.5 8   318.0\n",
              "AMC Javelin         15.2 8   304.0\n",
              "Camaro Z28          13.3 8   350.0\n",
              "Pontiac Firebird    19.2 8   400.0\n",
              "Fiat X1-9           27.3 4    79.0\n",
              "Porsche 914-2       26.0 4   120.3\n",
              "Lotus Europa        30.4 4    95.1\n",
              "Ford Pantera L      15.8 8   351.0\n",
              "Ferrari Dino        19.7 6   145.0\n",
              "Maserati Bora       15.0 8   301.0\n",
              "Volvo 142E          21.4 4   121.0"
            ],
            "text/latex": "A data.frame: 32 × 3\n\\begin{tabular}{r|lll}\n  & mpg & cyl & disp\\\\\n  & <dbl> & <dbl> & <dbl>\\\\\n\\hline\n\tMazda RX4 & 21.0 & 6 & 160.0\\\\\n\tMazda RX4 Wag & 21.0 & 6 & 160.0\\\\\n\tDatsun 710 & 22.8 & 4 & 108.0\\\\\n\tHornet 4 Drive & 21.4 & 6 & 258.0\\\\\n\tHornet Sportabout & 18.7 & 8 & 360.0\\\\\n\tValiant & 18.1 & 6 & 225.0\\\\\n\tDuster 360 & 14.3 & 8 & 360.0\\\\\n\tMerc 240D & 24.4 & 4 & 146.7\\\\\n\tMerc 230 & 22.8 & 4 & 140.8\\\\\n\tMerc 280 & 19.2 & 6 & 167.6\\\\\n\tMerc 280C & 17.8 & 6 & 167.6\\\\\n\tMerc 450SE & 16.4 & 8 & 275.8\\\\\n\tMerc 450SL & 17.3 & 8 & 275.8\\\\\n\tMerc 450SLC & 15.2 & 8 & 275.8\\\\\n\tCadillac Fleetwood & 10.4 & 8 & 472.0\\\\\n\tLincoln Continental & 10.4 & 8 & 460.0\\\\\n\tChrysler Imperial & 14.7 & 8 & 440.0\\\\\n\tFiat 128 & 32.4 & 4 &  78.7\\\\\n\tHonda Civic & 30.4 & 4 &  75.7\\\\\n\tToyota Corolla & 33.9 & 4 &  71.1\\\\\n\tToyota Corona & 21.5 & 4 & 120.1\\\\\n\tDodge Challenger & 15.5 & 8 & 318.0\\\\\n\tAMC Javelin & 15.2 & 8 & 304.0\\\\\n\tCamaro Z28 & 13.3 & 8 & 350.0\\\\\n\tPontiac Firebird & 19.2 & 8 & 400.0\\\\\n\tFiat X1-9 & 27.3 & 4 &  79.0\\\\\n\tPorsche 914-2 & 26.0 & 4 & 120.3\\\\\n\tLotus Europa & 30.4 & 4 &  95.1\\\\\n\tFord Pantera L & 15.8 & 8 & 351.0\\\\\n\tFerrari Dino & 19.7 & 6 & 145.0\\\\\n\tMaserati Bora & 15.0 & 8 & 301.0\\\\\n\tVolvo 142E & 21.4 & 4 & 121.0\\\\\n\\end{tabular}\n",
            "text/markdown": "\nA data.frame: 32 × 3\n\n| <!--/--> | mpg &lt;dbl&gt; | cyl &lt;dbl&gt; | disp &lt;dbl&gt; |\n|---|---|---|---|\n| Mazda RX4 | 21.0 | 6 | 160.0 |\n| Mazda RX4 Wag | 21.0 | 6 | 160.0 |\n| Datsun 710 | 22.8 | 4 | 108.0 |\n| Hornet 4 Drive | 21.4 | 6 | 258.0 |\n| Hornet Sportabout | 18.7 | 8 | 360.0 |\n| Valiant | 18.1 | 6 | 225.0 |\n| Duster 360 | 14.3 | 8 | 360.0 |\n| Merc 240D | 24.4 | 4 | 146.7 |\n| Merc 230 | 22.8 | 4 | 140.8 |\n| Merc 280 | 19.2 | 6 | 167.6 |\n| Merc 280C | 17.8 | 6 | 167.6 |\n| Merc 450SE | 16.4 | 8 | 275.8 |\n| Merc 450SL | 17.3 | 8 | 275.8 |\n| Merc 450SLC | 15.2 | 8 | 275.8 |\n| Cadillac Fleetwood | 10.4 | 8 | 472.0 |\n| Lincoln Continental | 10.4 | 8 | 460.0 |\n| Chrysler Imperial | 14.7 | 8 | 440.0 |\n| Fiat 128 | 32.4 | 4 |  78.7 |\n| Honda Civic | 30.4 | 4 |  75.7 |\n| Toyota Corolla | 33.9 | 4 |  71.1 |\n| Toyota Corona | 21.5 | 4 | 120.1 |\n| Dodge Challenger | 15.5 | 8 | 318.0 |\n| AMC Javelin | 15.2 | 8 | 304.0 |\n| Camaro Z28 | 13.3 | 8 | 350.0 |\n| Pontiac Firebird | 19.2 | 8 | 400.0 |\n| Fiat X1-9 | 27.3 | 4 |  79.0 |\n| Porsche 914-2 | 26.0 | 4 | 120.3 |\n| Lotus Europa | 30.4 | 4 |  95.1 |\n| Ford Pantera L | 15.8 | 8 | 351.0 |\n| Ferrari Dino | 19.7 | 6 | 145.0 |\n| Maserati Bora | 15.0 | 8 | 301.0 |\n| Volvo 142E | 21.4 | 4 | 121.0 |\n\n",
            "text/html": [
              "<table class=\"dataframe\">\n",
              "<caption>A data.frame: 32 × 3</caption>\n",
              "<thead>\n",
              "\t<tr><th></th><th scope=col>mpg</th><th scope=col>cyl</th><th scope=col>disp</th></tr>\n",
              "\t<tr><th></th><th scope=col>&lt;dbl&gt;</th><th scope=col>&lt;dbl&gt;</th><th scope=col>&lt;dbl&gt;</th></tr>\n",
              "</thead>\n",
              "<tbody>\n",
              "\t<tr><th scope=row>Mazda RX4</th><td>21.0</td><td>6</td><td>160.0</td></tr>\n",
              "\t<tr><th scope=row>Mazda RX4 Wag</th><td>21.0</td><td>6</td><td>160.0</td></tr>\n",
              "\t<tr><th scope=row>Datsun 710</th><td>22.8</td><td>4</td><td>108.0</td></tr>\n",
              "\t<tr><th scope=row>Hornet 4 Drive</th><td>21.4</td><td>6</td><td>258.0</td></tr>\n",
              "\t<tr><th scope=row>Hornet Sportabout</th><td>18.7</td><td>8</td><td>360.0</td></tr>\n",
              "\t<tr><th scope=row>Valiant</th><td>18.1</td><td>6</td><td>225.0</td></tr>\n",
              "\t<tr><th scope=row>Duster 360</th><td>14.3</td><td>8</td><td>360.0</td></tr>\n",
              "\t<tr><th scope=row>Merc 240D</th><td>24.4</td><td>4</td><td>146.7</td></tr>\n",
              "\t<tr><th scope=row>Merc 230</th><td>22.8</td><td>4</td><td>140.8</td></tr>\n",
              "\t<tr><th scope=row>Merc 280</th><td>19.2</td><td>6</td><td>167.6</td></tr>\n",
              "\t<tr><th scope=row>Merc 280C</th><td>17.8</td><td>6</td><td>167.6</td></tr>\n",
              "\t<tr><th scope=row>Merc 450SE</th><td>16.4</td><td>8</td><td>275.8</td></tr>\n",
              "\t<tr><th scope=row>Merc 450SL</th><td>17.3</td><td>8</td><td>275.8</td></tr>\n",
              "\t<tr><th scope=row>Merc 450SLC</th><td>15.2</td><td>8</td><td>275.8</td></tr>\n",
              "\t<tr><th scope=row>Cadillac Fleetwood</th><td>10.4</td><td>8</td><td>472.0</td></tr>\n",
              "\t<tr><th scope=row>Lincoln Continental</th><td>10.4</td><td>8</td><td>460.0</td></tr>\n",
              "\t<tr><th scope=row>Chrysler Imperial</th><td>14.7</td><td>8</td><td>440.0</td></tr>\n",
              "\t<tr><th scope=row>Fiat 128</th><td>32.4</td><td>4</td><td> 78.7</td></tr>\n",
              "\t<tr><th scope=row>Honda Civic</th><td>30.4</td><td>4</td><td> 75.7</td></tr>\n",
              "\t<tr><th scope=row>Toyota Corolla</th><td>33.9</td><td>4</td><td> 71.1</td></tr>\n",
              "\t<tr><th scope=row>Toyota Corona</th><td>21.5</td><td>4</td><td>120.1</td></tr>\n",
              "\t<tr><th scope=row>Dodge Challenger</th><td>15.5</td><td>8</td><td>318.0</td></tr>\n",
              "\t<tr><th scope=row>AMC Javelin</th><td>15.2</td><td>8</td><td>304.0</td></tr>\n",
              "\t<tr><th scope=row>Camaro Z28</th><td>13.3</td><td>8</td><td>350.0</td></tr>\n",
              "\t<tr><th scope=row>Pontiac Firebird</th><td>19.2</td><td>8</td><td>400.0</td></tr>\n",
              "\t<tr><th scope=row>Fiat X1-9</th><td>27.3</td><td>4</td><td> 79.0</td></tr>\n",
              "\t<tr><th scope=row>Porsche 914-2</th><td>26.0</td><td>4</td><td>120.3</td></tr>\n",
              "\t<tr><th scope=row>Lotus Europa</th><td>30.4</td><td>4</td><td> 95.1</td></tr>\n",
              "\t<tr><th scope=row>Ford Pantera L</th><td>15.8</td><td>8</td><td>351.0</td></tr>\n",
              "\t<tr><th scope=row>Ferrari Dino</th><td>19.7</td><td>6</td><td>145.0</td></tr>\n",
              "\t<tr><th scope=row>Maserati Bora</th><td>15.0</td><td>8</td><td>301.0</td></tr>\n",
              "\t<tr><th scope=row>Volvo 142E</th><td>21.4</td><td>4</td><td>121.0</td></tr>\n",
              "</tbody>\n",
              "</table>\n"
            ]
          },
          "metadata": {}
        }
      ]
    }
  ]
}