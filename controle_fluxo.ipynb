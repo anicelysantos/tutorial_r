{
 "cells": [
  {
   "cell_type": "markdown",
   "id": "0a0f77a6",
   "metadata": {},
   "source": [
    "**Condicionamento If e Else**"
   ]
  },
  {
   "cell_type": "code",
   "execution_count": 1,
   "id": "ffeb54e5",
   "metadata": {},
   "outputs": [],
   "source": [
    "#função Sys.time() retorna data/hora\n",
    "x  <- 2\n",
    "if (x == 1){\n",
    "    Sys.time()\n",
    "}"
   ]
  },
  {
   "cell_type": "code",
   "execution_count": 2,
   "id": "be849ff7",
   "metadata": {},
   "outputs": [
    {
     "data": {
      "text/plain": [
       "[1] \"2021-09-23 13:10:13 -03\""
      ]
     },
     "metadata": {},
     "output_type": "display_data"
    }
   ],
   "source": [
    "x  <- 1\n",
    "if (x == 1){\n",
    "    Sys.time()\n",
    "}"
   ]
  },
  {
   "cell_type": "code",
   "execution_count": 3,
   "id": "650e84cb",
   "metadata": {},
   "outputs": [
    {
     "data": {
      "text/html": [
       "29"
      ],
      "text/latex": [
       "29"
      ],
      "text/markdown": [
       "29"
      ],
      "text/plain": [
       "[1] 29"
      ]
     },
     "metadata": {},
     "output_type": "display_data"
    }
   ],
   "source": [
    "x  <- c(1,3,10,15)\n",
    "if(class(x) == 'numeric') {\n",
    "    sum(x)\n",
    "}"
   ]
  },
  {
   "cell_type": "code",
   "execution_count": 6,
   "id": "2b3fccbd",
   "metadata": {},
   "outputs": [],
   "source": [
    "#Os valores não são numeric\n",
    "x  <- c('a','b','c')\n",
    "if(class(x) == 'numeric') {\n",
    "    sum(x)\n",
    "}"
   ]
  },
  {
   "cell_type": "code",
   "execution_count": 8,
   "id": "3d1e57f1",
   "metadata": {},
   "outputs": [
    {
     "data": {
      "text/html": [
       "3"
      ],
      "text/latex": [
       "3"
      ],
      "text/markdown": [
       "3"
      ],
      "text/plain": [
       "[1] 3"
      ]
     },
     "metadata": {},
     "output_type": "display_data"
    }
   ],
   "source": [
    "#Mesma verificação poderia ser feita dento de uma função\n",
    "minha_soma  <- function(x,y){\n",
    "    if(class(x) == 'numeric' & class(y) == 'numeric'){\n",
    "        x + y\n",
    "    }\n",
    "}\n",
    "\n",
    "minha_soma(1,2)"
   ]
  },
  {
   "cell_type": "code",
   "execution_count": 9,
   "id": "252633d8",
   "metadata": {},
   "outputs": [],
   "source": [
    "#não retorna nada porque os valores não são numeric\n",
    "minha_soma('a','b')"
   ]
  },
  {
   "cell_type": "code",
   "execution_count": 11,
   "id": "3b2cac84",
   "metadata": {},
   "outputs": [
    {
     "data": {
      "text/html": [
       "3"
      ],
      "text/latex": [
       "3"
      ],
      "text/markdown": [
       "3"
      ],
      "text/plain": [
       "[1] 3"
      ]
     },
     "metadata": {},
     "output_type": "display_data"
    }
   ],
   "source": [
    "#return() retorna um resultado \n",
    "minha_soma_NA  <- function(x,y) {\n",
    "    if(class(x) == 'numeric' & class(y) == 'numeric') {\n",
    "        soma  <- x + y\n",
    "        return(soma)\n",
    "    }\n",
    "    \n",
    "    NA\n",
    "}\n",
    "minha_soma_NA(1,2)"
   ]
  },
  {
   "cell_type": "code",
   "execution_count": 12,
   "id": "6a1ad10f",
   "metadata": {},
   "outputs": [
    {
     "data": {
      "text/html": [
       "&lt;NA&gt;"
      ],
      "text/latex": [
       "<NA>"
      ],
      "text/markdown": [
       "&lt;NA&gt;"
      ],
      "text/plain": [
       "[1] NA"
      ]
     },
     "metadata": {},
     "output_type": "display_data"
    }
   ],
   "source": [
    "minha_soma_NA('a','b')"
   ]
  },
  {
   "cell_type": "code",
   "execution_count": 13,
   "id": "dea839ce",
   "metadata": {},
   "outputs": [
    {
     "data": {
      "text/html": [
       "&lt;NA&gt;"
      ],
      "text/latex": [
       "<NA>"
      ],
      "text/markdown": [
       "&lt;NA&gt;"
      ],
      "text/plain": [
       "[1] NA"
      ]
     },
     "metadata": {},
     "output_type": "display_data"
    }
   ],
   "source": [
    "minha_soma_NA(1,'a')"
   ]
  },
  {
   "cell_type": "code",
   "execution_count": 14,
   "id": "c8eb8245",
   "metadata": {},
   "outputs": [
    {
     "data": {
      "text/html": [
       "7"
      ],
      "text/latex": [
       "7"
      ],
      "text/markdown": [
       "7"
      ],
      "text/plain": [
       "[1] 7"
      ]
     },
     "metadata": {},
     "output_type": "display_data"
    }
   ],
   "source": [
    "#stop() retorna uma mensagem personalizada\n",
    "minha_soma_erro  <- function(x,y) {\n",
    "    if(class(x) != 'numeric' | class(y) != 'numeric') {\n",
    "        stop('A classe dos objetos x e y deve ser numérica.')\n",
    "    }\n",
    "    \n",
    "    x + y\n",
    "}\n",
    "minha_soma_erro(2,5)"
   ]
  },
  {
   "cell_type": "code",
   "execution_count": 15,
   "id": "1fc49989",
   "metadata": {},
   "outputs": [
    {
     "ename": "ERROR",
     "evalue": "Error in minha_soma_erro(\"a\", \"b\"): A classe dos objetos x e y deve ser numérica.\n",
     "output_type": "error",
     "traceback": [
      "Error in minha_soma_erro(\"a\", \"b\"): A classe dos objetos x e y deve ser numérica.\nTraceback:\n",
      "1. minha_soma_erro(\"a\", \"b\")",
      "2. stop(\"A classe dos objetos x e y deve ser numérica.\")   # at line 4 of file <text>"
     ]
    }
   ],
   "source": [
    "minha_soma_erro('a','b')"
   ]
  },
  {
   "cell_type": "code",
   "execution_count": 16,
   "id": "98de31e0",
   "metadata": {},
   "outputs": [
    {
     "ename": "ERROR",
     "evalue": "Error in minha_soma_erro(2, \"v\"): A classe dos objetos x e y deve ser numérica.\n",
     "output_type": "error",
     "traceback": [
      "Error in minha_soma_erro(2, \"v\"): A classe dos objetos x e y deve ser numérica.\nTraceback:\n",
      "1. minha_soma_erro(2, \"v\")",
      "2. stop(\"A classe dos objetos x e y deve ser numérica.\")   # at line 4 of file <text>"
     ]
    }
   ],
   "source": [
    "minha_soma_erro(2, 'v')"
   ]
  },
  {
   "cell_type": "code",
   "execution_count": 23,
   "id": "6db821f8",
   "metadata": {},
   "outputs": [
    {
     "data": {
      "text/html": [
       "29"
      ],
      "text/latex": [
       "29"
      ],
      "text/markdown": [
       "29"
      ],
      "text/plain": [
       "[1] 29"
      ]
     },
     "metadata": {},
     "output_type": "display_data"
    }
   ],
   "source": [
    "#Else funciona como alternativa ao teste do if\n",
    "x  <- c(1,3,10,15)\n",
    "\n",
    "if(class(x) == 'numeric'){\n",
    "    sum(x)\n",
    "} else {\n",
    "    NA\n",
    "}"
   ]
  },
  {
   "cell_type": "code",
   "execution_count": 24,
   "id": "166e9550",
   "metadata": {},
   "outputs": [
    {
     "data": {
      "text/html": [
       "&lt;NA&gt;"
      ],
      "text/latex": [
       "<NA>"
      ],
      "text/markdown": [
       "&lt;NA&gt;"
      ],
      "text/plain": [
       "[1] NA"
      ]
     },
     "metadata": {},
     "output_type": "display_data"
    }
   ],
   "source": [
    "x  <- c(1,3,10,'15')\n",
    "\n",
    "if(class(x) == 'numeric'){\n",
    "    sum(x)\n",
    "} else {\n",
    "    NA\n",
    "}"
   ]
  },
  {
   "cell_type": "code",
   "execution_count": 25,
   "id": "4309a777",
   "metadata": {},
   "outputs": [
    {
     "data": {
      "text/html": [
       "'neutro'"
      ],
      "text/latex": [
       "'neutro'"
      ],
      "text/markdown": [
       "'neutro'"
      ],
      "text/plain": [
       "[1] \"neutro\""
      ]
     },
     "metadata": {},
     "output_type": "display_data"
    }
   ],
   "source": [
    "#Usar o else para encandear vários ifs\n",
    "x  <- 0\n",
    "if(x < 0){\n",
    "    'negativo'\n",
    "} else if(x == 0) {\n",
    "    'neutro'\n",
    "} else if(x > 0) {\n",
    "    'positivo'\n",
    "}"
   ]
  },
  {
   "cell_type": "code",
   "execution_count": 28,
   "id": "03bfefd2",
   "metadata": {},
   "outputs": [
    {
     "data": {
      "text/html": [
       "'neutro'"
      ],
      "text/latex": [
       "'neutro'"
      ],
      "text/markdown": [
       "'neutro'"
      ],
      "text/plain": [
       "[1] \"neutro\""
      ]
     },
     "metadata": {},
     "output_type": "display_data"
    }
   ],
   "source": [
    "#Não precisaria do ultimo if, apenas do else\n",
    "x  <- 0\n",
    "if(x < 0){\n",
    "    'negativo'\n",
    "} else if(x == 0) {\n",
    "    'neutro'\n",
    "}else{\n",
    "    'positivo'\n",
    "}"
   ]
  },
  {
   "cell_type": "markdown",
   "id": "c1541e1e",
   "metadata": {},
   "source": [
    "**Iteradores: for e while**"
   ]
  },
  {
   "cell_type": "code",
   "execution_count": 29,
   "id": "19de7673",
   "metadata": {},
   "outputs": [
    {
     "name": "stdout",
     "output_type": "stream",
     "text": [
      "[1] 20.09062\n",
      "[1] 6.1875\n",
      "[1] 230.7219\n",
      "[1] 146.6875\n",
      "[1] 3.596563\n",
      "[1] 3.21725\n",
      "[1] 17.84875\n",
      "[1] 0.4375\n",
      "[1] 0.40625\n",
      "[1] 3.6875\n",
      "[1] 2.8125\n"
     ]
    }
   ],
   "source": [
    "#Calculando a media de cada coluna do dataframe\n",
    "numero_de_colunas  <- ncol(mtcars)\n",
    "\n",
    "for (coluna in 1:numero_de_colunas) {\n",
    "    media  <- mean(mtcars[,coluna])\n",
    "    print(media)\n",
    "}"
   ]
  },
  {
   "cell_type": "code",
   "execution_count": 32,
   "id": "66b2cb06",
   "metadata": {},
   "outputs": [
    {
     "data": {
      "text/html": [
       "<ol class=list-inline>\n",
       "\t<li>20.090625</li>\n",
       "\t<li>6.1875</li>\n",
       "\t<li>230.721875</li>\n",
       "\t<li>146.6875</li>\n",
       "\t<li>3.5965625</li>\n",
       "\t<li>3.21725</li>\n",
       "\t<li>17.84875</li>\n",
       "\t<li>0.4375</li>\n",
       "\t<li>0.40625</li>\n",
       "\t<li>3.6875</li>\n",
       "\t<li>2.8125</li>\n",
       "</ol>\n"
      ],
      "text/latex": [
       "\\begin{enumerate*}\n",
       "\\item 20.090625\n",
       "\\item 6.1875\n",
       "\\item 230.721875\n",
       "\\item 146.6875\n",
       "\\item 3.5965625\n",
       "\\item 3.21725\n",
       "\\item 17.84875\n",
       "\\item 0.4375\n",
       "\\item 0.40625\n",
       "\\item 3.6875\n",
       "\\item 2.8125\n",
       "\\end{enumerate*}\n"
      ],
      "text/markdown": [
       "1. 20.090625\n",
       "2. 6.1875\n",
       "3. 230.721875\n",
       "4. 146.6875\n",
       "5. 3.5965625\n",
       "6. 3.21725\n",
       "7. 17.84875\n",
       "8. 0.4375\n",
       "9. 0.40625\n",
       "10. 3.6875\n",
       "11. 2.8125\n",
       "\n",
       "\n"
      ],
      "text/plain": [
       " [1]  20.090625   6.187500 230.721875 146.687500   3.596563   3.217250\n",
       " [7]  17.848750   0.437500   0.406250   3.687500   2.812500"
      ]
     },
     "metadata": {},
     "output_type": "display_data"
    }
   ],
   "source": [
    "#É possivel salvar os resultados da iteração em um vetor\n",
    "numero_de_colunas  <- ncol(mtcars)\n",
    "\n",
    "#criando um vetor vazio\n",
    "medias  <- c()\n",
    "\n",
    "for (coluna in 1:numero_de_colunas) {\n",
    "    medias[coluna]  <- mean(mtcars[,coluna])\n",
    "}\n",
    "medias"
   ]
  },
  {
   "cell_type": "code",
   "execution_count": 34,
   "id": "16519885",
   "metadata": {},
   "outputs": [
    {
     "name": "stdout",
     "output_type": "stream",
     "text": [
      "[1] 1\n",
      "[1] 2\n"
     ]
    }
   ],
   "source": [
    "#O while funciona enquanto a condição for verdadeira\n",
    "#No caso do exemplo, enquanto i for menor que 3, ele seguirá imprimindo i\n",
    "\n",
    "i  <-  1\n",
    "\n",
    "while (i < 3){\n",
    "    print(i)\n",
    "    #atualizando o valor de i para não entrar em loop infinito\n",
    "    i  <- i + 1\n",
    "}"
   ]
  },
  {
   "cell_type": "markdown",
   "id": "a80b1b1a",
   "metadata": {},
   "source": [
    "**Exercícios**\n",
    "\n",
    "1.  Por que o código abaixo retorna erro? Arrume o código para retornar o valor `TRUE`."
   ]
  },
  {
   "cell_type": "code",
   "execution_count": 36,
   "id": "e6456ffc",
   "metadata": {},
   "outputs": [
    {
     "ename": "ERROR",
     "evalue": "Error in parse(text = x, srcfile = src): <text>:3:7: '=' inesperado\n2: \n3: if( x =\n         ^\n",
     "output_type": "error",
     "traceback": [
      "Error in parse(text = x, srcfile = src): <text>:3:7: '=' inesperado\n2: \n3: if( x =\n         ^\nTraceback:\n"
     ]
    }
   ],
   "source": [
    "x  <- 4\n",
    "\n",
    "if( x = 4){\n",
    "    TRUE\n",
    "}\n",
    "\n",
    "#Incluir mais um '=' pra comparar"
   ]
  },
  {
   "cell_type": "markdown",
   "id": "fed620ab",
   "metadata": {},
   "source": [
    "2. Usando `if` e `else`, escreva um código que retorne a string \"número\" caso o valor seja da classe `numeric` ou `integer`; a string \"palavra\" caso o valor seja da classe `character`; e `NA` caso contrário."
   ]
  },
  {
   "cell_type": "code",
   "execution_count": 44,
   "id": "17972319",
   "metadata": {},
   "outputs": [
    {
     "data": {
      "text/html": [
       "&lt;NA&gt;"
      ],
      "text/latex": [
       "<NA>"
      ],
      "text/markdown": [
       "&lt;NA&gt;"
      ],
      "text/plain": [
       "[1] NA"
      ]
     },
     "metadata": {},
     "output_type": "display_data"
    }
   ],
   "source": [
    "x  <- NA\n",
    "\n",
    "if (class(x) == 'numeric' | class (x) == 'integer'){\n",
    "    'número'\n",
    "} else if (class(x) == 'character'){\n",
    "    'palavra'\n",
    "}else{\n",
    "    NA\n",
    "}"
   ]
  },
  {
   "cell_type": "code",
   "execution_count": 47,
   "id": "4380ed46",
   "metadata": {},
   "outputs": [
    {
     "data": {
      "text/html": [
       "'palavra'"
      ],
      "text/latex": [
       "'palavra'"
      ],
      "text/markdown": [
       "'palavra'"
      ],
      "text/plain": [
       "[1] \"palavra\""
      ]
     },
     "metadata": {},
     "output_type": "display_data"
    }
   ],
   "source": [
    "#Outro jeito de fazer\n",
    "x  <- 'teste'\n",
    "\n",
    "if (is.numeric(x)) {\n",
    "    'número'\n",
    "} else if (is.character(x)) {\n",
    "    'palavra'\n",
    "} else {\n",
    "    NA\n",
    "}"
   ]
  },
  {
   "cell_type": "markdown",
   "id": "5e7826b0",
   "metadata": {},
   "source": [
    "3. Usando apenas `for` e a função `length()`, construa uma função que calcule a média de um vetor número qualquer. Construa uma condição para a função retornar NULL caso o vetor não seja numérico."
   ]
  },
  {
   "cell_type": "code",
   "execution_count": 55,
   "id": "68cdb506",
   "metadata": {},
   "outputs": [
    {
     "data": {
      "text/html": [
       "2"
      ],
      "text/latex": [
       "2"
      ],
      "text/markdown": [
       "2"
      ],
      "text/plain": [
       "[1] 2"
      ]
     },
     "metadata": {},
     "output_type": "display_data"
    }
   ],
   "source": [
    "media  <- function(vetor) {\n",
    "    soma  <- 0\n",
    "    \n",
    "    for (i in 1:length(vetor)){\n",
    "        soma  <- soma + vetor[i]\n",
    "    }\n",
    "    \n",
    "    media  <- soma / length(vetor)\n",
    "    \n",
    "    return(media)\n",
    "    \n",
    "    }\n",
    "\n",
    "media(c(2,2))\n"
   ]
  },
  {
   "cell_type": "code",
   "execution_count": 57,
   "id": "39ed16f6",
   "metadata": {},
   "outputs": [
    {
     "data": {
      "text/html": [
       "3"
      ],
      "text/latex": [
       "3"
      ],
      "text/markdown": [
       "3"
      ],
      "text/plain": [
       "[1] 3"
      ]
     },
     "metadata": {},
     "output_type": "display_data"
    }
   ],
   "source": [
    "media(0:6)"
   ]
  },
  {
   "cell_type": "markdown",
   "id": "ee505831",
   "metadata": {},
   "source": [
    "4. Utilize o vetor a para resolver as questões a seguir:"
   ]
  },
  {
   "cell_type": "code",
   "execution_count": 42,
   "id": "8e6aa08b",
   "metadata": {},
   "outputs": [],
   "source": [
    "a <- c(10, 3, 5, -1, 3, -4, 8, 9, -10)"
   ]
  },
  {
   "cell_type": "markdown",
   "id": "3e44eca7",
   "metadata": {},
   "source": [
    "a. Utilize o for para imprimir as médias acumuladas do vetor `a`, isto é, primeiro vamos imprimir 10, depois a média entre 10 e 3, depois a média entre 10, 3 e 5 e assim por diante."
   ]
  },
  {
   "cell_type": "code",
   "execution_count": 58,
   "id": "cc447ac0",
   "metadata": {},
   "outputs": [
    {
     "name": "stdout",
     "output_type": "stream",
     "text": [
      "[1] 10\n",
      "[1] 6.5\n",
      "[1] 6\n",
      "[1] 4.25\n",
      "[1] 4\n",
      "[1] 2.666667\n",
      "[1] 3.428571\n",
      "[1] 4.125\n",
      "[1] 2.555556\n"
     ]
    }
   ],
   "source": [
    "soma  <- 0\n",
    "\n",
    "for (i in 1:length(a)) {\n",
    "    soma  <-  soma + a[i]\n",
    "    \n",
    "    print(soma / i)\n",
    "}"
   ]
  },
  {
   "cell_type": "markdown",
   "id": "48d5159e",
   "metadata": {},
   "source": [
    "b. Adapte o laço que você fez no item anterior para ignorar os valores negativos, isto é, em caso de valor negativo, o laço não deve calcular a média e não imprimir nada."
   ]
  },
  {
   "cell_type": "code",
   "execution_count": 59,
   "id": "fb60e3ea",
   "metadata": {},
   "outputs": [
    {
     "name": "stdout",
     "output_type": "stream",
     "text": [
      "[1] 10\n",
      "[1] 6.5\n",
      "[1] 6\n",
      "[1] 5.25\n",
      "[1] 5.8\n",
      "[1] 6.333333\n"
     ]
    }
   ],
   "source": [
    "soma  <- 0\n",
    "divisor  <- 0\n",
    "\n",
    "for(i in 1:length(a)) {\n",
    "    if (a[i] >= 0){\n",
    "        soma  <- soma + a[i]\n",
    "        divisor  <- divisor + 1\n",
    "        print(soma / divisor)\n",
    "    }\n",
    "}"
   ]
  },
  {
   "cell_type": "code",
   "execution_count": null,
   "id": "3e8c050e",
   "metadata": {},
   "outputs": [],
   "source": []
  }
 ],
 "metadata": {
  "kernelspec": {
   "display_name": "R",
   "language": "R",
   "name": "ir"
  },
  "language_info": {
   "codemirror_mode": "r",
   "file_extension": ".r",
   "mimetype": "text/x-r-source",
   "name": "R",
   "pygments_lexer": "r",
   "version": "3.6.1"
  }
 },
 "nbformat": 4,
 "nbformat_minor": 5
}
